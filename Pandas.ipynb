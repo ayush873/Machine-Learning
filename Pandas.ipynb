{
 "cells": [
  {
   "cell_type": "markdown",
   "id": "0cd7bd94",
   "metadata": {},
   "source": [
    "# Bike Store sales"
   ]
  },
  {
   "cell_type": "code",
   "execution_count": 8,
   "id": "a5ceb603",
   "metadata": {},
   "outputs": [],
   "source": [
    "import numpy as np\n",
    "import pandas as pd\n",
    "import matplotlib.pyplot as plt\n",
    "\n",
    "%matplotlib inline"
   ]
  },
  {
   "cell_type": "code",
   "execution_count": 13,
   "id": "1a6f3b8d",
   "metadata": {},
   "outputs": [],
   "source": [
    "sales=pd.read_csv('Machine Learning/data/sales_data.csv')"
   ]
  },
  {
   "cell_type": "code",
   "execution_count": 15,
   "id": "a990d4ed",
   "metadata": {},
   "outputs": [
    {
     "data": {
      "text/html": [
       "<div>\n",
       "<style scoped>\n",
       "    .dataframe tbody tr th:only-of-type {\n",
       "        vertical-align: middle;\n",
       "    }\n",
       "\n",
       "    .dataframe tbody tr th {\n",
       "        vertical-align: top;\n",
       "    }\n",
       "\n",
       "    .dataframe thead th {\n",
       "        text-align: right;\n",
       "    }\n",
       "</style>\n",
       "<table border=\"1\" class=\"dataframe\">\n",
       "  <thead>\n",
       "    <tr style=\"text-align: right;\">\n",
       "      <th></th>\n",
       "      <th>Date</th>\n",
       "      <th>Day</th>\n",
       "      <th>Month</th>\n",
       "      <th>Year</th>\n",
       "      <th>Customer_Age</th>\n",
       "      <th>Age_Group</th>\n",
       "      <th>Customer_Gender</th>\n",
       "      <th>Country</th>\n",
       "      <th>State</th>\n",
       "      <th>Product_Category</th>\n",
       "      <th>Sub_Category</th>\n",
       "      <th>Product</th>\n",
       "      <th>Order_Quantity</th>\n",
       "      <th>Unit_Cost</th>\n",
       "      <th>Unit_Price</th>\n",
       "      <th>Profit</th>\n",
       "      <th>Cost</th>\n",
       "      <th>Revenue</th>\n",
       "    </tr>\n",
       "  </thead>\n",
       "  <tbody>\n",
       "    <tr>\n",
       "      <th>0</th>\n",
       "      <td>2013-11-26</td>\n",
       "      <td>26</td>\n",
       "      <td>November</td>\n",
       "      <td>2013</td>\n",
       "      <td>19</td>\n",
       "      <td>Youth (&lt;25)</td>\n",
       "      <td>M</td>\n",
       "      <td>Canada</td>\n",
       "      <td>British Columbia</td>\n",
       "      <td>Accessories</td>\n",
       "      <td>Bike Racks</td>\n",
       "      <td>Hitch Rack - 4-Bike</td>\n",
       "      <td>8.0</td>\n",
       "      <td>45.0</td>\n",
       "      <td>120.0</td>\n",
       "      <td>590.0</td>\n",
       "      <td>360.0</td>\n",
       "      <td>950.0</td>\n",
       "    </tr>\n",
       "    <tr>\n",
       "      <th>1</th>\n",
       "      <td>2015-11-26</td>\n",
       "      <td>26</td>\n",
       "      <td>November</td>\n",
       "      <td>2015</td>\n",
       "      <td>19</td>\n",
       "      <td>Youth (&lt;25)</td>\n",
       "      <td>M</td>\n",
       "      <td>Canada</td>\n",
       "      <td>British Columbia</td>\n",
       "      <td>Accessories</td>\n",
       "      <td>Bike Racks</td>\n",
       "      <td>Hitch Rack - 4-Bike</td>\n",
       "      <td>8.0</td>\n",
       "      <td>45.0</td>\n",
       "      <td>120.0</td>\n",
       "      <td>590.0</td>\n",
       "      <td>360.0</td>\n",
       "      <td>950.0</td>\n",
       "    </tr>\n",
       "    <tr>\n",
       "      <th>2</th>\n",
       "      <td>2014-03-23</td>\n",
       "      <td>23</td>\n",
       "      <td>March</td>\n",
       "      <td>2014</td>\n",
       "      <td>49</td>\n",
       "      <td>Adults (35-64)</td>\n",
       "      <td>M</td>\n",
       "      <td>Australia</td>\n",
       "      <td>New South Wales</td>\n",
       "      <td>Accessories</td>\n",
       "      <td>Bike Racks</td>\n",
       "      <td>Hitch Rack - 4-Bike</td>\n",
       "      <td>23.0</td>\n",
       "      <td>45.0</td>\n",
       "      <td>120.0</td>\n",
       "      <td>1366.0</td>\n",
       "      <td>1035.0</td>\n",
       "      <td>2401.0</td>\n",
       "    </tr>\n",
       "    <tr>\n",
       "      <th>3</th>\n",
       "      <td>2016-03-23</td>\n",
       "      <td>23</td>\n",
       "      <td>March</td>\n",
       "      <td>2016</td>\n",
       "      <td>49</td>\n",
       "      <td>Adults (35-64)</td>\n",
       "      <td>M</td>\n",
       "      <td>Australia</td>\n",
       "      <td>New South Wales</td>\n",
       "      <td>Accessories</td>\n",
       "      <td>Bike Racks</td>\n",
       "      <td>Hitch Rack - 4-Bike</td>\n",
       "      <td>20.0</td>\n",
       "      <td>45.0</td>\n",
       "      <td>120.0</td>\n",
       "      <td>1188.0</td>\n",
       "      <td>900.0</td>\n",
       "      <td>2088.0</td>\n",
       "    </tr>\n",
       "    <tr>\n",
       "      <th>4</th>\n",
       "      <td>2014-05-15</td>\n",
       "      <td>15</td>\n",
       "      <td>May</td>\n",
       "      <td>2014</td>\n",
       "      <td>47</td>\n",
       "      <td>Adults (35-64)</td>\n",
       "      <td>F</td>\n",
       "      <td>Australia</td>\n",
       "      <td>New South Wales</td>\n",
       "      <td>Accessories</td>\n",
       "      <td>Bike Racks</td>\n",
       "      <td>Hitch Rack - 4-Bike</td>\n",
       "      <td>4.0</td>\n",
       "      <td>45.0</td>\n",
       "      <td>120.0</td>\n",
       "      <td>238.0</td>\n",
       "      <td>180.0</td>\n",
       "      <td>418.0</td>\n",
       "    </tr>\n",
       "  </tbody>\n",
       "</table>\n",
       "</div>"
      ],
      "text/plain": [
       "         Date  Day     Month  Year  Customer_Age       Age_Group  \\\n",
       "0  2013-11-26   26  November  2013            19     Youth (<25)   \n",
       "1  2015-11-26   26  November  2015            19     Youth (<25)   \n",
       "2  2014-03-23   23     March  2014            49  Adults (35-64)   \n",
       "3  2016-03-23   23     March  2016            49  Adults (35-64)   \n",
       "4  2014-05-15   15       May  2014            47  Adults (35-64)   \n",
       "\n",
       "  Customer_Gender    Country             State Product_Category Sub_Category  \\\n",
       "0               M     Canada  British Columbia      Accessories   Bike Racks   \n",
       "1               M     Canada  British Columbia      Accessories   Bike Racks   \n",
       "2               M  Australia   New South Wales      Accessories   Bike Racks   \n",
       "3               M  Australia   New South Wales      Accessories   Bike Racks   \n",
       "4               F  Australia   New South Wales      Accessories   Bike Racks   \n",
       "\n",
       "               Product  Order_Quantity  Unit_Cost  Unit_Price  Profit    Cost  \\\n",
       "0  Hitch Rack - 4-Bike             8.0       45.0       120.0   590.0   360.0   \n",
       "1  Hitch Rack - 4-Bike             8.0       45.0       120.0   590.0   360.0   \n",
       "2  Hitch Rack - 4-Bike            23.0       45.0       120.0  1366.0  1035.0   \n",
       "3  Hitch Rack - 4-Bike            20.0       45.0       120.0  1188.0   900.0   \n",
       "4  Hitch Rack - 4-Bike             4.0       45.0       120.0   238.0   180.0   \n",
       "\n",
       "   Revenue  \n",
       "0    950.0  \n",
       "1    950.0  \n",
       "2   2401.0  \n",
       "3   2088.0  \n",
       "4    418.0  "
      ]
     },
     "execution_count": 15,
     "metadata": {},
     "output_type": "execute_result"
    }
   ],
   "source": [
    "sales.head()"
   ]
  },
  {
   "cell_type": "markdown",
   "id": "57f82aec",
   "metadata": {},
   "source": [
    "<h3>calculating mean of the customers</h3>"
   ]
  },
  {
   "cell_type": "code",
   "execution_count": 19,
   "id": "b150eaa5",
   "metadata": {},
   "outputs": [
    {
     "data": {
      "text/plain": [
       "36.173576981503"
      ]
     },
     "execution_count": 19,
     "metadata": {},
     "output_type": "execute_result"
    }
   ],
   "source": [
    "sales['Customer_Age'].mean()    "
   ]
  },
  {
   "cell_type": "markdown",
   "id": "a3f2e855",
   "metadata": {},
   "source": [
    "<p>.mean() used to calculate mean of specific coloumn or row</p>"
   ]
  },
  {
   "cell_type": "code",
   "execution_count": 20,
   "id": "0600275b",
   "metadata": {},
   "outputs": [
    {
     "data": {
      "text/plain": [
       "<AxesSubplot:ylabel='Density'>"
      ]
     },
     "execution_count": 20,
     "metadata": {},
     "output_type": "execute_result"
    },
    {
     "data": {
      "image/png": "[encoded data removed]",
      "text/plain": [
       "<Figure size 1008x432 with 1 Axes>"
      ]
     },
     "metadata": {
      "needs_background": "light"
     },
     "output_type": "display_data"
    }
   ],
   "source": [
    "sales['Customer_Age'].plot(kind='kde',figsize=(14,6))"
   ]
  },
  {
   "cell_type": "markdown",
   "id": "5b868f33",
   "metadata": {},
   "source": [
    "<p>Above graph is probability density function of parameter Age. designed using desity(KDE)</p>"
   ]
  },
  {
   "cell_type": "code",
   "execution_count": 21,
   "id": "7907ad2b",
   "metadata": {},
   "outputs": [
    {
     "data": {
      "text/plain": [
       "<AxesSubplot:>"
      ]
     },
     "execution_count": 21,
     "metadata": {},
     "output_type": "execute_result"
    },
    {
     "data": {
      "image/png": "[encoded data removed]",
      "text/plain": [
       "<Figure size 1008x432 with 1 Axes>"
      ]
     },
     "metadata": {
      "needs_background": "light"
     },
     "output_type": "display_data"
    }
   ],
   "source": [
    "sales['Customer_Age'].plot(kind='box', vert=False, figsize=(14,6))"
   ]
  },
  {
   "cell_type": "markdown",
   "id": "ca7eb92c",
   "metadata": {},
   "source": [
    "<p>A boxplot is a standardized way of displaying the distribution of data based on a five number summary (“minimum”, first quartile (Q1), median, third quartile (Q3), and “maximum”)</p>"
   ]
  },
  {
   "cell_type": "markdown",
   "id": "e0094822",
   "metadata": {},
   "source": [
    "<h3>Let's visualize the mean of ordered Quantity</p>"
   ]
  },
  {
   "cell_type": "code",
   "execution_count": 22,
   "id": "f39d378f",
   "metadata": {},
   "outputs": [
    {
     "data": {
      "text/plain": [
       "14.936599423631124"
      ]
     },
     "execution_count": 22,
     "metadata": {},
     "output_type": "execute_result"
    }
   ],
   "source": [
    "sales['Order_Quantity'].mean()"
   ]
  },
  {
   "cell_type": "markdown",
   "id": "bbba6af2",
   "metadata": {},
   "source": [
    "<p>lets see the histogram and box plot of the same</p>"
   ]
  },
  {
   "cell_type": "code",
   "execution_count": 23,
   "id": "d96289bf",
   "metadata": {},
   "outputs": [
    {
     "data": {
      "text/plain": [
       "<AxesSubplot:ylabel='Frequency'>"
      ]
     },
     "execution_count": 23,
     "metadata": {},
     "output_type": "execute_result"
    },
    {
     "data": {
      "image/png": "[encoded data removed]",
      "text/plain": [
       "<Figure size 1008x432 with 1 Axes>"
      ]
     },
     "metadata": {
      "needs_background": "light"
     },
     "output_type": "display_data"
    }
   ],
   "source": [
    "sales['Order_Quantity'].plot(kind='hist', bins=30, figsize=(14,6))"
   ]
  },
  {
   "cell_type": "code",
   "execution_count": 24,
   "id": "862c1d28",
   "metadata": {},
   "outputs": [
    {
     "data": {
      "text/plain": [
       "<AxesSubplot:>"
      ]
     },
     "execution_count": 24,
     "metadata": {},
     "output_type": "execute_result"
    },
    {
     "data": {
      "image/png": "[encoded data removed]",
      "text/plain": [
       "<Figure size 1008x432 with 1 Axes>"
      ]
     },
     "metadata": {
      "needs_background": "light"
     },
     "output_type": "display_data"
    }
   ],
   "source": [
    "sales['Order_Quantity'].plot(kind='box', vert=False, figsize=(14,6))"
   ]
  },
  {
   "cell_type": "markdown",
   "id": "4f57c6d6",
   "metadata": {},
   "source": [
    "<h3> How many sales in a year do we have</h3>"
   ]
  },
  {
   "cell_type": "code",
   "execution_count": 25,
   "id": "3eb024af",
   "metadata": {},
   "outputs": [
    {
     "data": {
      "text/plain": [
       "2014    12821\n",
       "2016    12821\n",
       "2013     9561\n",
       "2015     9561\n",
       "Name: Year, dtype: int64"
      ]
     },
     "execution_count": 25,
     "metadata": {},
     "output_type": "execute_result"
    }
   ],
   "source": [
    "sales['Year'].value_counts()"
   ]
  },
  {
   "cell_type": "markdown",
   "id": "47958d49",
   "metadata": {},
   "source": [
    "<p> .value_counts() in uses to group same objects and calculate the count. Same as in COUNT in SQL</p>"
   ]
  },
  {
   "cell_type": "markdown",
   "id": "b629d765",
   "metadata": {},
   "source": [
    "###### lets see pie plot"
   ]
  },
  {
   "cell_type": "code",
   "execution_count": 26,
   "id": "e5e15823",
   "metadata": {},
   "outputs": [
    {
     "data": {
      "text/plain": [
       "<AxesSubplot:ylabel='Year'>"
      ]
     },
     "execution_count": 26,
     "metadata": {},
     "output_type": "execute_result"
    },
    {
     "data": {
      "image/png": "[encoded data removed]",
      "text/plain": [
       "<Figure size 432x432 with 1 Axes>"
      ]
     },
     "metadata": {},
     "output_type": "display_data"
    }
   ],
   "source": [
    "sales['Year'].value_counts().plot(kind='pie', figsize=(6,6))"
   ]
  },
  {
   "cell_type": "markdown",
   "id": "df9c02e3",
   "metadata": {},
   "source": [
    "###### lets see bar graph with the same data."
   ]
  },
  {
   "cell_type": "code",
   "execution_count": 27,
   "id": "cb185873",
   "metadata": {},
   "outputs": [
    {
     "data": {
      "text/plain": [
       "<AxesSubplot:>"
      ]
     },
     "execution_count": 27,
     "metadata": {},
     "output_type": "execute_result"
    },
    {
     "data": {
      "image/png": "[encoded data removed]",
      "text/plain": [
       "<Figure size 432x432 with 1 Axes>"
      ]
     },
     "metadata": {
      "needs_background": "light"
     },
     "output_type": "display_data"
    }
   ],
   "source": [
    "sales['Year'].value_counts().plot(kind='bar', figsize=(6,6))"
   ]
  },
  {
   "cell_type": "markdown",
   "id": "99b544de",
   "metadata": {},
   "source": [
    "### Create a list of every product sold"
   ]
  },
  {
   "cell_type": "code",
   "execution_count": 28,
   "id": "1c62d026",
   "metadata": {},
   "outputs": [
    {
     "data": {
      "text/plain": [
       "array(['Hitch Rack - 4-Bike', 'All-Purpose Bike Stand',\n",
       "       'Mountain Bottle Cage', 'Water Bottle - 30 oz.',\n",
       "       'Road Bottle Cage', 'AWC Logo Cap', 'Bike Wash - Dissolver',\n",
       "       'Fender Set - Mountain', 'Half-Finger Gloves, L',\n",
       "       'Half-Finger Gloves, M', 'Half-Finger Gloves, S',\n",
       "       'Sport-100 Helmet, Black', 'Sport-100 Helmet, Red',\n",
       "       'Sport-100 Helmet, Blue', 'Hydration Pack - 70 oz.',\n",
       "       'Short-Sleeve Classic Jersey, XL',\n",
       "       'Short-Sleeve Classic Jersey, L', 'Short-Sleeve Classic Jersey, M',\n",
       "       'Short-Sleeve Classic Jersey, S', 'Long-Sleeve Logo Jersey, M',\n",
       "       'Long-Sleeve Logo Jersey, XL', 'Long-Sleeve Logo Jersey, L',\n",
       "       'Long-Sleeve Logo Jersey, S', nan], dtype=object)"
      ]
     },
     "execution_count": 28,
     "metadata": {},
     "output_type": "execute_result"
    }
   ],
   "source": [
    "#sales.loc[:, 'Product'].unique() \n",
    "\n",
    "sales['Product'].unique()"
   ]
  },
  {
   "cell_type": "markdown",
   "id": "3e33936d",
   "metadata": {},
   "source": [
    "###### create a bar plot of 10 most selling bikes"
   ]
  },
  {
   "cell_type": "code",
   "execution_count": 31,
   "id": "359a41ce",
   "metadata": {},
   "outputs": [
    {
     "data": {
      "text/plain": [
       "<AxesSubplot:>"
      ]
     },
     "execution_count": 31,
     "metadata": {},
     "output_type": "execute_result"
    },
    {
     "data": {
      "image/png": "[encoded data removed]",
      "text/plain": [
       "<Figure size 1008x432 with 1 Axes>"
      ]
     },
     "metadata": {
      "needs_background": "light"
     },
     "output_type": "display_data"
    }
   ],
   "source": [
    "sales['Product'].value_counts().head(10).plot(kind='bar',figsize=(14,6))"
   ]
  },
  {
   "cell_type": "markdown",
   "id": "534ec861",
   "metadata": {},
   "source": [
    "### Can u see any relationship between Order Quantity and Profit?"
   ]
  },
  {
   "cell_type": "markdown",
   "id": "28e01916",
   "metadata": {},
   "source": [
    "###### lets see a scatter plot between them"
   ]
  },
  {
   "cell_type": "code",
   "execution_count": 33,
   "id": "45f35d88",
   "metadata": {},
   "outputs": [
    {
     "data": {
      "text/plain": [
       "<AxesSubplot:xlabel='Unit_Cost', ylabel='Unit_Price'>"
      ]
     },
     "execution_count": 33,
     "metadata": {},
     "output_type": "execute_result"
    },
    {
     "data": {
      "image/png": "[encoded data removed]",
      "text/plain": [
       "<Figure size 432x432 with 1 Axes>"
      ]
     },
     "metadata": {
      "needs_background": "light"
     },
     "output_type": "display_data"
    }
   ],
   "source": [
    "sales.plot(kind='scatter', x='Unit_Cost', y='Unit_Price', figsize=(6,6))"
   ]
  },
  {
   "cell_type": "markdown",
   "id": "7dcf287c",
   "metadata": {},
   "source": [
    "<p>Unit_Cost and Unit_Price are the two coloumns and with the help of scatter we can see the relationship between them.</p>"
   ]
  },
  {
   "cell_type": "markdown",
   "id": "7a329731",
   "metadata": {},
   "source": [
    "### Relationship between Customer Age per Country"
   ]
  },
  {
   "cell_type": "code",
   "execution_count": 34,
   "id": "0e5e8fd2",
   "metadata": {},
   "outputs": [
    {
     "data": {
      "text/plain": [
       "<AxesSubplot:title={'center':'Customer_Age'}, xlabel='[Country]'>"
      ]
     },
     "execution_count": 34,
     "metadata": {},
     "output_type": "execute_result"
    },
    {
     "data": {
      "image/png": "[encoded data removed]",
      "text/plain": [
       "<Figure size 720x432 with 1 Axes>"
      ]
     },
     "metadata": {
      "needs_background": "light"
     },
     "output_type": "display_data"
    }
   ],
   "source": [
    "sales[['Customer_Age', 'Country']].boxplot(by='Country', figsize=(10,6))"
   ]
  },
  {
   "cell_type": "markdown",
   "id": "99dab233",
   "metadata": {},
   "source": [
    "<p> we created the box plot per countries with the customer age values</p>"
   ]
  },
  {
   "cell_type": "markdown",
   "id": "2d363bd2",
   "metadata": {},
   "source": [
    "### Add and calculate a new Calculated_Date column"
   ]
  },
  {
   "cell_type": "markdown",
   "id": "c5b0a940",
   "metadata": {},
   "source": [
    "<p>Use Day, Month, Year to create a Date column (YYYY-MM-DD).</p>"
   ]
  },
  {
   "cell_type": "code",
   "execution_count": 38,
   "id": "e8507e24",
   "metadata": {},
   "outputs": [
    {
     "data": {
      "text/plain": [
       "0    2013-November-26\n",
       "1    2015-November-26\n",
       "2       2014-March-23\n",
       "3       2016-March-23\n",
       "4         2014-May-15\n",
       "Name: Calculated_Date, dtype: object"
      ]
     },
     "execution_count": 38,
     "metadata": {},
     "output_type": "execute_result"
    }
   ],
   "source": [
    "sales['Calculated_Date'] = sales[['Year','Month','Day']].apply(lambda x: '{}-{}-{}'.format(x[0],x[1],x[2]),axis=1)\n",
    "sales['Calculated_Date'].head()"
   ]
  },
  {
   "cell_type": "markdown",
   "id": "3fb243dd",
   "metadata": {},
   "source": [
    "### Parse your Calculated_Date coloumn into a datetime object"
   ]
  },
  {
   "cell_type": "code",
   "execution_count": 40,
   "id": "8a38d97c",
   "metadata": {},
   "outputs": [
    {
     "data": {
      "text/plain": [
       "0   2013-11-26\n",
       "1   2015-11-26\n",
       "2   2014-03-23\n",
       "3   2016-03-23\n",
       "4   2014-05-15\n",
       "Name: Calculated_Date, dtype: datetime64[ns]"
      ]
     },
     "execution_count": 40,
     "metadata": {},
     "output_type": "execute_result"
    }
   ],
   "source": [
    "sales['Calculated_Date'] = pd.to_datetime(sales['Calculated_Date'])\n",
    "sales['Calculated_Date'].head()"
   ]
  },
  {
   "cell_type": "code",
   "execution_count": 41,
   "id": "9eaa2eb5",
   "metadata": {},
   "outputs": [
    {
     "data": {
      "text/html": [
       "<div>\n",
       "<style scoped>\n",
       "    .dataframe tbody tr th:only-of-type {\n",
       "        vertical-align: middle;\n",
       "    }\n",
       "\n",
       "    .dataframe tbody tr th {\n",
       "        vertical-align: top;\n",
       "    }\n",
       "\n",
       "    .dataframe thead th {\n",
       "        text-align: right;\n",
       "    }\n",
       "</style>\n",
       "<table border=\"1\" class=\"dataframe\">\n",
       "  <thead>\n",
       "    <tr style=\"text-align: right;\">\n",
       "      <th></th>\n",
       "      <th>Date</th>\n",
       "      <th>Day</th>\n",
       "      <th>Month</th>\n",
       "      <th>Year</th>\n",
       "      <th>Customer_Age</th>\n",
       "      <th>Age_Group</th>\n",
       "      <th>Customer_Gender</th>\n",
       "      <th>Country</th>\n",
       "      <th>State</th>\n",
       "      <th>Product_Category</th>\n",
       "      <th>Sub_Category</th>\n",
       "      <th>Product</th>\n",
       "      <th>Order_Quantity</th>\n",
       "      <th>Unit_Cost</th>\n",
       "      <th>Unit_Price</th>\n",
       "      <th>Profit</th>\n",
       "      <th>Cost</th>\n",
       "      <th>Revenue</th>\n",
       "      <th>Calculated_Date</th>\n",
       "    </tr>\n",
       "  </thead>\n",
       "  <tbody>\n",
       "    <tr>\n",
       "      <th>0</th>\n",
       "      <td>2013-11-26</td>\n",
       "      <td>26</td>\n",
       "      <td>November</td>\n",
       "      <td>2013</td>\n",
       "      <td>19</td>\n",
       "      <td>Youth (&lt;25)</td>\n",
       "      <td>M</td>\n",
       "      <td>Canada</td>\n",
       "      <td>British Columbia</td>\n",
       "      <td>Accessories</td>\n",
       "      <td>Bike Racks</td>\n",
       "      <td>Hitch Rack - 4-Bike</td>\n",
       "      <td>8.0</td>\n",
       "      <td>45.0</td>\n",
       "      <td>120.0</td>\n",
       "      <td>590.0</td>\n",
       "      <td>360.0</td>\n",
       "      <td>950.0</td>\n",
       "      <td>2013-11-26</td>\n",
       "    </tr>\n",
       "    <tr>\n",
       "      <th>1</th>\n",
       "      <td>2015-11-26</td>\n",
       "      <td>26</td>\n",
       "      <td>November</td>\n",
       "      <td>2015</td>\n",
       "      <td>19</td>\n",
       "      <td>Youth (&lt;25)</td>\n",
       "      <td>M</td>\n",
       "      <td>Canada</td>\n",
       "      <td>British Columbia</td>\n",
       "      <td>Accessories</td>\n",
       "      <td>Bike Racks</td>\n",
       "      <td>Hitch Rack - 4-Bike</td>\n",
       "      <td>8.0</td>\n",
       "      <td>45.0</td>\n",
       "      <td>120.0</td>\n",
       "      <td>590.0</td>\n",
       "      <td>360.0</td>\n",
       "      <td>950.0</td>\n",
       "      <td>2015-11-26</td>\n",
       "    </tr>\n",
       "    <tr>\n",
       "      <th>2</th>\n",
       "      <td>2014-03-23</td>\n",
       "      <td>23</td>\n",
       "      <td>March</td>\n",
       "      <td>2014</td>\n",
       "      <td>49</td>\n",
       "      <td>Adults (35-64)</td>\n",
       "      <td>M</td>\n",
       "      <td>Australia</td>\n",
       "      <td>New South Wales</td>\n",
       "      <td>Accessories</td>\n",
       "      <td>Bike Racks</td>\n",
       "      <td>Hitch Rack - 4-Bike</td>\n",
       "      <td>23.0</td>\n",
       "      <td>45.0</td>\n",
       "      <td>120.0</td>\n",
       "      <td>1366.0</td>\n",
       "      <td>1035.0</td>\n",
       "      <td>2401.0</td>\n",
       "      <td>2014-03-23</td>\n",
       "    </tr>\n",
       "    <tr>\n",
       "      <th>3</th>\n",
       "      <td>2016-03-23</td>\n",
       "      <td>23</td>\n",
       "      <td>March</td>\n",
       "      <td>2016</td>\n",
       "      <td>49</td>\n",
       "      <td>Adults (35-64)</td>\n",
       "      <td>M</td>\n",
       "      <td>Australia</td>\n",
       "      <td>New South Wales</td>\n",
       "      <td>Accessories</td>\n",
       "      <td>Bike Racks</td>\n",
       "      <td>Hitch Rack - 4-Bike</td>\n",
       "      <td>20.0</td>\n",
       "      <td>45.0</td>\n",
       "      <td>120.0</td>\n",
       "      <td>1188.0</td>\n",
       "      <td>900.0</td>\n",
       "      <td>2088.0</td>\n",
       "      <td>2016-03-23</td>\n",
       "    </tr>\n",
       "    <tr>\n",
       "      <th>4</th>\n",
       "      <td>2014-05-15</td>\n",
       "      <td>15</td>\n",
       "      <td>May</td>\n",
       "      <td>2014</td>\n",
       "      <td>47</td>\n",
       "      <td>Adults (35-64)</td>\n",
       "      <td>F</td>\n",
       "      <td>Australia</td>\n",
       "      <td>New South Wales</td>\n",
       "      <td>Accessories</td>\n",
       "      <td>Bike Racks</td>\n",
       "      <td>Hitch Rack - 4-Bike</td>\n",
       "      <td>4.0</td>\n",
       "      <td>45.0</td>\n",
       "      <td>120.0</td>\n",
       "      <td>238.0</td>\n",
       "      <td>180.0</td>\n",
       "      <td>418.0</td>\n",
       "      <td>2014-05-15</td>\n",
       "    </tr>\n",
       "  </tbody>\n",
       "</table>\n",
       "</div>"
      ],
      "text/plain": [
       "         Date  Day     Month  Year  Customer_Age       Age_Group  \\\n",
       "0  2013-11-26   26  November  2013            19     Youth (<25)   \n",
       "1  2015-11-26   26  November  2015            19     Youth (<25)   \n",
       "2  2014-03-23   23     March  2014            49  Adults (35-64)   \n",
       "3  2016-03-23   23     March  2016            49  Adults (35-64)   \n",
       "4  2014-05-15   15       May  2014            47  Adults (35-64)   \n",
       "\n",
       "  Customer_Gender    Country             State Product_Category Sub_Category  \\\n",
       "0               M     Canada  British Columbia      Accessories   Bike Racks   \n",
       "1               M     Canada  British Columbia      Accessories   Bike Racks   \n",
       "2               M  Australia   New South Wales      Accessories   Bike Racks   \n",
       "3               M  Australia   New South Wales      Accessories   Bike Racks   \n",
       "4               F  Australia   New South Wales      Accessories   Bike Racks   \n",
       "\n",
       "               Product  Order_Quantity  Unit_Cost  Unit_Price  Profit    Cost  \\\n",
       "0  Hitch Rack - 4-Bike             8.0       45.0       120.0   590.0   360.0   \n",
       "1  Hitch Rack - 4-Bike             8.0       45.0       120.0   590.0   360.0   \n",
       "2  Hitch Rack - 4-Bike            23.0       45.0       120.0  1366.0  1035.0   \n",
       "3  Hitch Rack - 4-Bike            20.0       45.0       120.0  1188.0   900.0   \n",
       "4  Hitch Rack - 4-Bike             4.0       45.0       120.0   238.0   180.0   \n",
       "\n",
       "   Revenue Calculated_Date  \n",
       "0    950.0      2013-11-26  \n",
       "1    950.0      2015-11-26  \n",
       "2   2401.0      2014-03-23  \n",
       "3   2088.0      2016-03-23  \n",
       "4    418.0      2014-05-15  "
      ]
     },
     "execution_count": 41,
     "metadata": {},
     "output_type": "execute_result"
    }
   ],
   "source": [
    "sales.head()"
   ]
  },
  {
   "cell_type": "markdown",
   "id": "f754b621",
   "metadata": {},
   "source": [
    "### How does sales evolves through years?"
   ]
  },
  {
   "cell_type": "markdown",
   "id": "952fda35",
   "metadata": {},
   "source": [
    "lets see the line plot of count of sales in years so far."
   ]
  },
  {
   "cell_type": "code",
   "execution_count": 42,
   "id": "c72755a7",
   "metadata": {},
   "outputs": [
    {
     "data": {
      "text/plain": [
       "<AxesSubplot:>"
      ]
     },
     "execution_count": 42,
     "metadata": {},
     "output_type": "execute_result"
    },
    {
     "data": {
      "image/png": "[encoded data removed]",
      "text/plain": [
       "<Figure size 1008x432 with 1 Axes>"
      ]
     },
     "metadata": {
      "needs_background": "light"
     },
     "output_type": "display_data"
    }
   ],
   "source": [
    "sales['Calculated_Date'].value_counts().plot(kind='line', figsize=(14,6))"
   ]
  },
  {
   "cell_type": "markdown",
   "id": "2b8ecee0",
   "metadata": {},
   "source": [
    "### Increase 50 rupees to every sale"
   ]
  },
  {
   "cell_type": "code",
   "execution_count": 43,
   "id": "ee5c4ad5",
   "metadata": {},
   "outputs": [],
   "source": [
    "sales['Revenue']+=50"
   ]
  },
  {
   "cell_type": "markdown",
   "id": "83249188",
   "metadata": {},
   "source": [
    "### Count of orders made in canada and france"
   ]
  },
  {
   "cell_type": "code",
   "execution_count": 53,
   "id": "d602d903",
   "metadata": {},
   "outputs": [
    {
     "data": {
      "text/plain": [
       "10258"
      ]
     },
     "execution_count": 53,
     "metadata": {},
     "output_type": "execute_result"
    }
   ],
   "source": [
    "sales.loc[(sales['Country'] == 'Canada') | (sales['Country'] == 'France')].shape[0]"
   ]
  },
  {
   "cell_type": "markdown",
   "id": "55cd4d65",
   "metadata": {},
   "source": [
    "shape[0] represents number of rows. shape[1] will return number of columns."
   ]
  },
  {
   "cell_type": "markdown",
   "id": "8b1ac9e2",
   "metadata": {},
   "source": [
    "### How many orders were made in each region (state) of France?"
   ]
  },
  {
   "cell_type": "code",
   "execution_count": 54,
   "id": "5c4f327e",
   "metadata": {},
   "outputs": [
    {
     "data": {
      "text/plain": [
       "Seine (Paris)        844\n",
       "Seine Saint Denis    620\n",
       "Nord                 568\n",
       "Hauts de Seine       424\n",
       "Essonne              386\n",
       "Yveline              346\n",
       "Moselle              148\n",
       "Loiret               140\n",
       "Seine et Marne       140\n",
       "Val d'Oise            96\n",
       "Val de Marne          70\n",
       "Garonne (Haute)       70\n",
       "Charente-Maritime     64\n",
       "Loir et Cher          56\n",
       "Somme                 54\n",
       "Pas de Calais         38\n",
       "Name: State, dtype: int64"
      ]
     },
     "execution_count": 54,
     "metadata": {},
     "output_type": "execute_result"
    }
   ],
   "source": [
    "france_states = sales.loc[sales['Country'] == 'France', 'State'].value_counts()\n",
    "france_states"
   ]
  },
  {
   "cell_type": "markdown",
   "id": "d4d86958",
   "metadata": {},
   "source": [
    ".loc[a,b] - a is for rows and b is for columns."
   ]
  },
  {
   "cell_type": "markdown",
   "id": "916b11b9",
   "metadata": {},
   "source": [
    "### Which gender has most amount of sales?"
   ]
  },
  {
   "cell_type": "markdown",
   "id": "cddd4e4d",
   "metadata": {},
   "source": [
    "lets see with help of bar graph"
   ]
  },
  {
   "cell_type": "code",
   "execution_count": 55,
   "id": "e2d0aeaa",
   "metadata": {},
   "outputs": [
    {
     "data": {
      "text/plain": [
       "M    23136\n",
       "F    21628\n",
       "Name: Customer_Gender, dtype: int64"
      ]
     },
     "execution_count": 55,
     "metadata": {},
     "output_type": "execute_result"
    }
   ],
   "source": [
    "sales['Customer_Gender'].value_counts()"
   ]
  },
  {
   "cell_type": "code",
   "execution_count": 56,
   "id": "d3bfa123",
   "metadata": {},
   "outputs": [
    {
     "data": {
      "text/plain": [
       "<AxesSubplot:>"
      ]
     },
     "execution_count": 56,
     "metadata": {},
     "output_type": "execute_result"
    },
    {
     "data": {
      "image/png": "[encoded data removed]",
      "text/plain": [
       "<Figure size 432x288 with 1 Axes>"
      ]
     },
     "metadata": {
      "needs_background": "light"
     },
     "output_type": "display_data"
    }
   ],
   "source": [
    "sales['Customer_Gender'].value_counts().plot(kind='bar')"
   ]
  },
  {
   "cell_type": "markdown",
   "id": "40d1e6f4",
   "metadata": {},
   "source": [
    "### Get top 5 sales with the highest revenue"
   ]
  },
  {
   "cell_type": "code",
   "execution_count": 57,
   "id": "304c1bf9",
   "metadata": {},
   "outputs": [
    {
     "data": {
      "text/html": [
       "<div>\n",
       "<style scoped>\n",
       "    .dataframe tbody tr th:only-of-type {\n",
       "        vertical-align: middle;\n",
       "    }\n",
       "\n",
       "    .dataframe tbody tr th {\n",
       "        vertical-align: top;\n",
       "    }\n",
       "\n",
       "    .dataframe thead th {\n",
       "        text-align: right;\n",
       "    }\n",
       "</style>\n",
       "<table border=\"1\" class=\"dataframe\">\n",
       "  <thead>\n",
       "    <tr style=\"text-align: right;\">\n",
       "      <th></th>\n",
       "      <th>Date</th>\n",
       "      <th>Day</th>\n",
       "      <th>Month</th>\n",
       "      <th>Year</th>\n",
       "      <th>Customer_Age</th>\n",
       "      <th>Age_Group</th>\n",
       "      <th>Customer_Gender</th>\n",
       "      <th>Country</th>\n",
       "      <th>State</th>\n",
       "      <th>Product_Category</th>\n",
       "      <th>Sub_Category</th>\n",
       "      <th>Product</th>\n",
       "      <th>Order_Quantity</th>\n",
       "      <th>Unit_Cost</th>\n",
       "      <th>Unit_Price</th>\n",
       "      <th>Profit</th>\n",
       "      <th>Cost</th>\n",
       "      <th>Revenue</th>\n",
       "      <th>Calculated_Date</th>\n",
       "    </tr>\n",
       "  </thead>\n",
       "  <tbody>\n",
       "    <tr>\n",
       "      <th>245</th>\n",
       "      <td>2016-01-07</td>\n",
       "      <td>7</td>\n",
       "      <td>January</td>\n",
       "      <td>2016</td>\n",
       "      <td>31</td>\n",
       "      <td>Young Adults (25-34)</td>\n",
       "      <td>M</td>\n",
       "      <td>Canada</td>\n",
       "      <td>British Columbia</td>\n",
       "      <td>Accessories</td>\n",
       "      <td>Bike Racks</td>\n",
       "      <td>Hitch Rack - 4-Bike</td>\n",
       "      <td>30.0</td>\n",
       "      <td>45.0</td>\n",
       "      <td>120.0</td>\n",
       "      <td>2214.0</td>\n",
       "      <td>1350.0</td>\n",
       "      <td>3614.0</td>\n",
       "      <td>2016-01-07</td>\n",
       "    </tr>\n",
       "    <tr>\n",
       "      <th>90</th>\n",
       "      <td>2014-02-12</td>\n",
       "      <td>12</td>\n",
       "      <td>February</td>\n",
       "      <td>2014</td>\n",
       "      <td>46</td>\n",
       "      <td>Adults (35-64)</td>\n",
       "      <td>M</td>\n",
       "      <td>United States</td>\n",
       "      <td>California</td>\n",
       "      <td>Accessories</td>\n",
       "      <td>Bike Racks</td>\n",
       "      <td>Hitch Rack - 4-Bike</td>\n",
       "      <td>30.0</td>\n",
       "      <td>45.0</td>\n",
       "      <td>120.0</td>\n",
       "      <td>2178.0</td>\n",
       "      <td>1350.0</td>\n",
       "      <td>3578.0</td>\n",
       "      <td>2014-02-12</td>\n",
       "    </tr>\n",
       "    <tr>\n",
       "      <th>182</th>\n",
       "      <td>2014-01-17</td>\n",
       "      <td>17</td>\n",
       "      <td>January</td>\n",
       "      <td>2014</td>\n",
       "      <td>53</td>\n",
       "      <td>Adults (35-64)</td>\n",
       "      <td>F</td>\n",
       "      <td>United States</td>\n",
       "      <td>California</td>\n",
       "      <td>Accessories</td>\n",
       "      <td>Bike Racks</td>\n",
       "      <td>Hitch Rack - 4-Bike</td>\n",
       "      <td>30.0</td>\n",
       "      <td>45.0</td>\n",
       "      <td>120.0</td>\n",
       "      <td>2178.0</td>\n",
       "      <td>1350.0</td>\n",
       "      <td>3578.0</td>\n",
       "      <td>2014-01-17</td>\n",
       "    </tr>\n",
       "    <tr>\n",
       "      <th>244</th>\n",
       "      <td>2014-01-07</td>\n",
       "      <td>7</td>\n",
       "      <td>January</td>\n",
       "      <td>2014</td>\n",
       "      <td>31</td>\n",
       "      <td>Young Adults (25-34)</td>\n",
       "      <td>M</td>\n",
       "      <td>Canada</td>\n",
       "      <td>British Columbia</td>\n",
       "      <td>Accessories</td>\n",
       "      <td>Bike Racks</td>\n",
       "      <td>Hitch Rack - 4-Bike</td>\n",
       "      <td>29.0</td>\n",
       "      <td>45.0</td>\n",
       "      <td>120.0</td>\n",
       "      <td>2140.0</td>\n",
       "      <td>1305.0</td>\n",
       "      <td>3495.0</td>\n",
       "      <td>2014-01-07</td>\n",
       "    </tr>\n",
       "    <tr>\n",
       "      <th>183</th>\n",
       "      <td>2016-01-17</td>\n",
       "      <td>17</td>\n",
       "      <td>January</td>\n",
       "      <td>2016</td>\n",
       "      <td>53</td>\n",
       "      <td>Adults (35-64)</td>\n",
       "      <td>F</td>\n",
       "      <td>United States</td>\n",
       "      <td>California</td>\n",
       "      <td>Accessories</td>\n",
       "      <td>Bike Racks</td>\n",
       "      <td>Hitch Rack - 4-Bike</td>\n",
       "      <td>29.0</td>\n",
       "      <td>45.0</td>\n",
       "      <td>120.0</td>\n",
       "      <td>2105.0</td>\n",
       "      <td>1305.0</td>\n",
       "      <td>3460.0</td>\n",
       "      <td>2016-01-17</td>\n",
       "    </tr>\n",
       "  </tbody>\n",
       "</table>\n",
       "</div>"
      ],
      "text/plain": [
       "           Date  Day     Month  Year  Customer_Age             Age_Group  \\\n",
       "245  2016-01-07    7   January  2016            31  Young Adults (25-34)   \n",
       "90   2014-02-12   12  February  2014            46        Adults (35-64)   \n",
       "182  2014-01-17   17   January  2014            53        Adults (35-64)   \n",
       "244  2014-01-07    7   January  2014            31  Young Adults (25-34)   \n",
       "183  2016-01-17   17   January  2016            53        Adults (35-64)   \n",
       "\n",
       "    Customer_Gender        Country             State Product_Category  \\\n",
       "245               M         Canada  British Columbia      Accessories   \n",
       "90                M  United States        California      Accessories   \n",
       "182               F  United States        California      Accessories   \n",
       "244               M         Canada  British Columbia      Accessories   \n",
       "183               F  United States        California      Accessories   \n",
       "\n",
       "    Sub_Category              Product  Order_Quantity  Unit_Cost  Unit_Price  \\\n",
       "245   Bike Racks  Hitch Rack - 4-Bike            30.0       45.0       120.0   \n",
       "90    Bike Racks  Hitch Rack - 4-Bike            30.0       45.0       120.0   \n",
       "182   Bike Racks  Hitch Rack - 4-Bike            30.0       45.0       120.0   \n",
       "244   Bike Racks  Hitch Rack - 4-Bike            29.0       45.0       120.0   \n",
       "183   Bike Racks  Hitch Rack - 4-Bike            29.0       45.0       120.0   \n",
       "\n",
       "     Profit    Cost  Revenue Calculated_Date  \n",
       "245  2214.0  1350.0   3614.0      2016-01-07  \n",
       "90   2178.0  1350.0   3578.0      2014-02-12  \n",
       "182  2178.0  1350.0   3578.0      2014-01-17  \n",
       "244  2140.0  1305.0   3495.0      2014-01-07  \n",
       "183  2105.0  1305.0   3460.0      2016-01-17  "
      ]
     },
     "execution_count": 57,
     "metadata": {},
     "output_type": "execute_result"
    }
   ],
   "source": [
    "sales.sort_values(['Revenue'], ascending=False).head(5)"
   ]
  },
  {
   "cell_type": "markdown",
   "id": "2aabee44",
   "metadata": {},
   "source": [
    "generally .sort_values() sorts in ascending order. but with ascending=False. it sorts in descending order."
   ]
  },
  {
   "cell_type": "markdown",
   "id": "fd3216f3",
   "metadata": {},
   "source": [
    "### Mean of ordered_quantity of orders with more than 1K in revenue?"
   ]
  },
  {
   "cell_type": "code",
   "execution_count": 63,
   "id": "8af66cf1",
   "metadata": {},
   "outputs": [
    {
     "data": {
      "text/plain": [
       "23.85279805352798"
      ]
     },
     "execution_count": 63,
     "metadata": {},
     "output_type": "execute_result"
    }
   ],
   "source": [
    "cond = sales['Revenue'] > 1000\n",
    "sales.loc[cond,'Order_Quantity'].mean()"
   ]
  },
  {
   "cell_type": "markdown",
   "id": "434b58bd",
   "metadata": {},
   "source": [
    "### How many orders were made between May and June 2016."
   ]
  },
  {
   "cell_type": "code",
   "execution_count": 64,
   "id": "df0fcaa9",
   "metadata": {},
   "outputs": [],
   "source": [
    "cond=(sales['Year'] == 2016) & (sales['Month'].isin(['May', 'June', 'July']))\n"
   ]
  },
  {
   "cell_type": "code",
   "execution_count": 65,
   "id": "fc254398",
   "metadata": {},
   "outputs": [],
   "source": [
    "profit=sales.loc[cond,['Profit','Month']]"
   ]
  },
  {
   "cell_type": "markdown",
   "id": "b14bc0b4",
   "metadata": {},
   "source": [
    "show a grouped box plot per month with the profit values."
   ]
  },
  {
   "cell_type": "code",
   "execution_count": 66,
   "id": "9aaa801c",
   "metadata": {},
   "outputs": [
    {
     "data": {
      "text/plain": [
       "<AxesSubplot:title={'center':'Profit'}, xlabel='[Month]'>"
      ]
     },
     "execution_count": 66,
     "metadata": {},
     "output_type": "execute_result"
    },
    {
     "data": {
      "image/png": "[encoded data removed]",
      "text/plain": [
       "<Figure size 1008x432 with 1 Axes>"
      ]
     },
     "metadata": {
      "needs_background": "light"
     },
     "output_type": "display_data"
    }
   ],
   "source": [
    "profit.boxplot(by='Month',figsize=(14,6))"
   ]
  },
  {
   "cell_type": "markdown",
   "id": "0a99e195",
   "metadata": {},
   "source": [
    "### Add 7.2% TAX on every sale Unit_Price within United States"
   ]
  },
  {
   "cell_type": "code",
   "execution_count": 74,
   "id": "7685c4ea",
   "metadata": {},
   "outputs": [
    {
     "data": {
      "text/plain": [
       "22    275.80416\n",
       "23    275.80416\n",
       "34    275.80416\n",
       "35    275.80416\n",
       "38    275.80416\n",
       "Name: Unit_Price, dtype: float64"
      ]
     },
     "execution_count": 74,
     "metadata": {},
     "output_type": "execute_result"
    }
   ],
   "source": [
    "sales.loc[sales['Country']=='United States','Unit_Price'].head()"
   ]
  },
  {
   "cell_type": "code",
   "execution_count": 75,
   "id": "c4a9ad8a",
   "metadata": {},
   "outputs": [],
   "source": [
    "sales.loc[sales['Country']=='United States','Unit_Price']*=1.072"
   ]
  },
  {
   "cell_type": "code",
   "execution_count": 76,
   "id": "7fd2af25",
   "metadata": {},
   "outputs": [
    {
     "data": {
      "text/plain": [
       "22    295.66206\n",
       "23    295.66206\n",
       "34    295.66206\n",
       "35    295.66206\n",
       "38    295.66206\n",
       "Name: Unit_Price, dtype: float64"
      ]
     },
     "execution_count": 76,
     "metadata": {},
     "output_type": "execute_result"
    }
   ],
   "source": [
    "sales.loc[sales['Country']=='United States','Unit_Price'].head()"
   ]
  },
  {
   "cell_type": "markdown",
   "id": "c9dd2551",
   "metadata": {},
   "source": [
    "U can see the difference between the values befeore and after."
   ]
  },
  {
   "cell_type": "code",
   "execution_count": null,
   "id": "f97494c9",
   "metadata": {},
   "outputs": [],
   "source": []
  }
 ],
 "metadata": {
  "kernelspec": {
   "display_name": "Python 3 (ipykernel)",
   "language": "python",
   "name": "python3"
  },
  "language_info": {
   "codemirror_mode": {
    "name": "ipython",
    "version": 3
   },
   "file_extension": ".py",
   "mimetype": "text/x-python",
   "name": "python",
   "nbconvert_exporter": "python",
   "pygments_lexer": "ipython3",
   "version": "3.8.8"
  }
 },
 "nbformat": 4,
 "nbformat_minor": 5
}
