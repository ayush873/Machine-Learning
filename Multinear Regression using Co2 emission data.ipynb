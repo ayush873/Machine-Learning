{
 "cells": [
  {
   "cell_type": "markdown",
   "id": "16904d9e",
   "metadata": {},
   "source": [
    "# Predicting CO2 emission using multilinear regression"
   ]
  },
  {
   "cell_type": "code",
   "execution_count": 36,
   "id": "45fc71cd",
   "metadata": {},
   "outputs": [],
   "source": [
    "import numpy as np\n",
    "import pandas as pd\n",
    "import matplotlib.pyplot as plt"
   ]
  },
  {
   "cell_type": "code",
   "execution_count": 37,
   "id": "3f86ad65",
   "metadata": {},
   "outputs": [],
   "source": [
    "data = pd.read_csv('data/population_data.csv')"
   ]
  },
  {
   "cell_type": "code",
   "execution_count": 38,
   "id": "fe056aa0",
   "metadata": {},
   "outputs": [
    {
     "data": {
      "text/html": [
       "<div>\n",
       "<style scoped>\n",
       "    .dataframe tbody tr th:only-of-type {\n",
       "        vertical-align: middle;\n",
       "    }\n",
       "\n",
       "    .dataframe tbody tr th {\n",
       "        vertical-align: top;\n",
       "    }\n",
       "\n",
       "    .dataframe thead th {\n",
       "        text-align: right;\n",
       "    }\n",
       "</style>\n",
       "<table border=\"1\" class=\"dataframe\">\n",
       "  <thead>\n",
       "    <tr style=\"text-align: right;\">\n",
       "      <th></th>\n",
       "      <th>Year</th>\n",
       "      <th>C02_Emission_Kt</th>\n",
       "      <th>Population_Total</th>\n",
       "    </tr>\n",
       "  </thead>\n",
       "  <tbody>\n",
       "    <tr>\n",
       "      <th>0</th>\n",
       "      <td>1960</td>\n",
       "      <td>120581.961</td>\n",
       "      <td>4.505477e+08</td>\n",
       "    </tr>\n",
       "    <tr>\n",
       "      <th>1</th>\n",
       "      <td>1961</td>\n",
       "      <td>130402.187</td>\n",
       "      <td>4.596422e+08</td>\n",
       "    </tr>\n",
       "    <tr>\n",
       "      <th>2</th>\n",
       "      <td>1962</td>\n",
       "      <td>143467.708</td>\n",
       "      <td>4.690772e+08</td>\n",
       "    </tr>\n",
       "    <tr>\n",
       "      <th>3</th>\n",
       "      <td>1963</td>\n",
       "      <td>154083.673</td>\n",
       "      <td>4.788256e+08</td>\n",
       "    </tr>\n",
       "    <tr>\n",
       "      <th>4</th>\n",
       "      <td>1964</td>\n",
       "      <td>150647.694</td>\n",
       "      <td>4.888481e+08</td>\n",
       "    </tr>\n",
       "    <tr>\n",
       "      <th>...</th>\n",
       "      <td>...</td>\n",
       "      <td>...</td>\n",
       "      <td>...</td>\n",
       "    </tr>\n",
       "    <tr>\n",
       "      <th>56</th>\n",
       "      <td>2016</td>\n",
       "      <td>2183280.000</td>\n",
       "      <td>1.324517e+09</td>\n",
       "    </tr>\n",
       "    <tr>\n",
       "      <th>57</th>\n",
       "      <td>2017</td>\n",
       "      <td>2301440.000</td>\n",
       "      <td>1.338677e+09</td>\n",
       "    </tr>\n",
       "    <tr>\n",
       "      <th>58</th>\n",
       "      <td>2018</td>\n",
       "      <td>2434520.000</td>\n",
       "      <td>1.352642e+09</td>\n",
       "    </tr>\n",
       "    <tr>\n",
       "      <th>59</th>\n",
       "      <td>2019</td>\n",
       "      <td>NaN</td>\n",
       "      <td>1.366418e+09</td>\n",
       "    </tr>\n",
       "    <tr>\n",
       "      <th>60</th>\n",
       "      <td>2020</td>\n",
       "      <td>NaN</td>\n",
       "      <td>1.380004e+09</td>\n",
       "    </tr>\n",
       "  </tbody>\n",
       "</table>\n",
       "<p>61 rows × 3 columns</p>\n",
       "</div>"
      ],
      "text/plain": [
       "    Year  C02_Emission_Kt  Population_Total\n",
       "0   1960       120581.961      4.505477e+08\n",
       "1   1961       130402.187      4.596422e+08\n",
       "2   1962       143467.708      4.690772e+08\n",
       "3   1963       154083.673      4.788256e+08\n",
       "4   1964       150647.694      4.888481e+08\n",
       "..   ...              ...               ...\n",
       "56  2016      2183280.000      1.324517e+09\n",
       "57  2017      2301440.000      1.338677e+09\n",
       "58  2018      2434520.000      1.352642e+09\n",
       "59  2019              NaN      1.366418e+09\n",
       "60  2020              NaN      1.380004e+09\n",
       "\n",
       "[61 rows x 3 columns]"
      ]
     },
     "execution_count": 38,
     "metadata": {},
     "output_type": "execute_result"
    }
   ],
   "source": [
    "data"
   ]
  },
  {
   "cell_type": "code",
   "execution_count": 39,
   "id": "86dd38a1",
   "metadata": {},
   "outputs": [
    {
     "data": {
      "text/plain": [
       "Year                0\n",
       "C02_Emission_Kt     2\n",
       "Population_Total    0\n",
       "dtype: int64"
      ]
     },
     "execution_count": 39,
     "metadata": {},
     "output_type": "execute_result"
    }
   ],
   "source": [
    "data.isnull().sum()"
   ]
  },
  {
   "cell_type": "markdown",
   "id": "12267b5f",
   "metadata": {},
   "source": [
    "we saw that, there are missing values in C02_Emission_Kt"
   ]
  },
  {
   "cell_type": "markdown",
   "id": "78e76e84",
   "metadata": {},
   "source": [
    "### Handling Missing values"
   ]
  },
  {
   "cell_type": "code",
   "execution_count": 40,
   "id": "60c928dc",
   "metadata": {},
   "outputs": [
    {
     "data": {
      "text/plain": [
       "774283.4385254236"
      ]
     },
     "execution_count": 40,
     "metadata": {},
     "output_type": "execute_result"
    }
   ],
   "source": [
    "mean=data['C02_Emission_Kt'].mean()\n",
    "mean"
   ]
  },
  {
   "cell_type": "markdown",
   "id": "b89c168c",
   "metadata": {},
   "source": [
    "we will fill all null values using mean."
   ]
  },
  {
   "cell_type": "code",
   "execution_count": 43,
   "id": "08a5071b",
   "metadata": {},
   "outputs": [],
   "source": [
    "data['C02_Emission_Kt'].fillna(value=mean,inplace=True)"
   ]
  },
  {
   "cell_type": "code",
   "execution_count": 44,
   "id": "5add56a3",
   "metadata": {},
   "outputs": [
    {
     "data": {
      "text/plain": [
       "Year                0\n",
       "C02_Emission_Kt     0\n",
       "Population_Total    0\n",
       "dtype: int64"
      ]
     },
     "execution_count": 44,
     "metadata": {},
     "output_type": "execute_result"
    }
   ],
   "source": [
    "data.isnull().sum()"
   ]
  },
  {
   "cell_type": "markdown",
   "id": "51607481",
   "metadata": {},
   "source": [
    "Now, We can see there are no Null Values as such."
   ]
  },
  {
   "cell_type": "markdown",
   "id": "0ca3376f",
   "metadata": {},
   "source": [
    "### Let's Normalize the data."
   ]
  },
  {
   "cell_type": "markdown",
   "id": "0f0bf189",
   "metadata": {},
   "source": [
    "We need to normalize the data, there are some features whose values are much much bigger than other features. If we do not normalize the data, feature with bigger data will dominate the prediction.\n",
    "\n",
    "better to scale all the data in range of -1 to 1."
   ]
  },
  {
   "cell_type": "code",
   "execution_count": 46,
   "id": "df05e286",
   "metadata": {},
   "outputs": [
    {
     "data": {
      "text/html": [
       "<div>\n",
       "<style scoped>\n",
       "    .dataframe tbody tr th:only-of-type {\n",
       "        vertical-align: middle;\n",
       "    }\n",
       "\n",
       "    .dataframe tbody tr th {\n",
       "        vertical-align: top;\n",
       "    }\n",
       "\n",
       "    .dataframe thead th {\n",
       "        text-align: right;\n",
       "    }\n",
       "</style>\n",
       "<table border=\"1\" class=\"dataframe\">\n",
       "  <thead>\n",
       "    <tr style=\"text-align: right;\">\n",
       "      <th></th>\n",
       "      <th>Year</th>\n",
       "      <th>C02_Emission_Kt</th>\n",
       "      <th>Population_Total</th>\n",
       "    </tr>\n",
       "  </thead>\n",
       "  <tbody>\n",
       "    <tr>\n",
       "      <th>0</th>\n",
       "      <td>-1.689862</td>\n",
       "      <td>-1.006869</td>\n",
       "      <td>-1.495666</td>\n",
       "    </tr>\n",
       "    <tr>\n",
       "      <th>1</th>\n",
       "      <td>-1.633533</td>\n",
       "      <td>-0.991743</td>\n",
       "      <td>-1.464627</td>\n",
       "    </tr>\n",
       "    <tr>\n",
       "      <th>2</th>\n",
       "      <td>-1.577204</td>\n",
       "      <td>-0.971619</td>\n",
       "      <td>-1.432425</td>\n",
       "    </tr>\n",
       "    <tr>\n",
       "      <th>3</th>\n",
       "      <td>-1.520875</td>\n",
       "      <td>-0.955267</td>\n",
       "      <td>-1.399154</td>\n",
       "    </tr>\n",
       "    <tr>\n",
       "      <th>4</th>\n",
       "      <td>-1.464547</td>\n",
       "      <td>-0.960560</td>\n",
       "      <td>-1.364947</td>\n",
       "    </tr>\n",
       "  </tbody>\n",
       "</table>\n",
       "</div>"
      ],
      "text/plain": [
       "       Year  C02_Emission_Kt  Population_Total\n",
       "0 -1.689862        -1.006869         -1.495666\n",
       "1 -1.633533        -0.991743         -1.464627\n",
       "2 -1.577204        -0.971619         -1.432425\n",
       "3 -1.520875        -0.955267         -1.399154\n",
       "4 -1.464547        -0.960560         -1.364947"
      ]
     },
     "execution_count": 46,
     "metadata": {},
     "output_type": "execute_result"
    }
   ],
   "source": [
    "#we need to normalize the data using mean normalization so as to attain values between -1 to 1.\n",
    "data=(data-data.mean())/data.std();\n",
    "data.head()"
   ]
  },
  {
   "cell_type": "markdown",
   "id": "4d999eb7",
   "metadata": {},
   "source": [
    "we can see, our data is normalized now. Now data is ready for furthur processing."
   ]
  },
  {
   "cell_type": "markdown",
   "id": "861cc3fd",
   "metadata": {},
   "source": [
    "### Its time to create metrics and set hyperparameters"
   ]
  },
  {
   "cell_type": "markdown",
   "id": "b3c0de21",
   "metadata": {},
   "source": [
    "#### lets start with creating train and test set from dataframe"
   ]
  },
  {
   "cell_type": "code",
   "execution_count": 47,
   "id": "5ab54b31",
   "metadata": {},
   "outputs": [],
   "source": [
    "#here we want to splitting the data into 80-20% \n",
    "msk = np.random.rand(len(data)) < 0.8"
   ]
  },
  {
   "cell_type": "code",
   "execution_count": 48,
   "id": "83d6bbb5",
   "metadata": {},
   "outputs": [],
   "source": [
    "train =data[msk]"
   ]
  },
  {
   "cell_type": "code",
   "execution_count": 119,
   "id": "7ebd90c9",
   "metadata": {},
   "outputs": [],
   "source": [
    "test = data[~msk]"
   ]
  },
  {
   "cell_type": "code",
   "execution_count": 120,
   "id": "626a0645",
   "metadata": {},
   "outputs": [
    {
     "name": "stdout",
     "output_type": "stream",
     "text": [
      "61 44 17\n"
     ]
    }
   ],
   "source": [
    "print(len(data),len(train),len(test))"
   ]
  },
  {
   "cell_type": "markdown",
   "id": "e2e50122",
   "metadata": {},
   "source": [
    "so we saw, that our data is divided into train and test data."
   ]
  },
  {
   "cell_type": "markdown",
   "id": "fae79226",
   "metadata": {},
   "source": [
    "#### Its time to create X and Y array for train and test data."
   ]
  },
  {
   "cell_type": "code",
   "execution_count": 123,
   "id": "373af5ea",
   "metadata": {},
   "outputs": [],
   "source": [
    "x_train = train.loc[:,['Year','Population_Total']]\n",
    "y_train = train.loc[:,['C02_Emission_Kt']]\n",
    "ones = np.ones([x_train.shape[0],1])\n",
    "x_train = np.concatenate((ones,x_train),axis=1)"
   ]
  },
  {
   "cell_type": "markdown",
   "id": "6390ac27",
   "metadata": {},
   "source": [
    "We added ones in starting of every row, \n",
    "to calculate hypothesis function-\n",
    "h(x) = theta0*x0 + theta1*x1 +theta2*x2\n",
    "or\n",
    "h(x) = Transpose(theta)*x_train\n",
    "<b>here x0=1</b>\n",
    "\n",
    "so we get final equation-<br>\n",
    "<b>h(x) = theta0 + theta1*x1 +theta2*x2<b>\n",
    "\n",
    "for furthur clarification you could refer to Andrew Neg multi-linear regression videos."
   ]
  },
  {
   "cell_type": "code",
   "execution_count": 65,
   "id": "acb56af6",
   "metadata": {},
   "outputs": [
    {
     "data": {
      "text/plain": [
       "array([[ 1.        , -1.68986152, -1.49566603],\n",
       "       [ 1.        , -1.6335328 , -1.46462658],\n",
       "       [ 1.        , -1.57720408, -1.43242489],\n",
       "       [ 1.        , -1.52087536, -1.39915361],\n",
       "       [ 1.        , -1.46454665, -1.36494674],\n",
       "       [ 1.        , -1.2955605 , -1.25725844],\n",
       "       [ 1.        , -1.18290306, -1.1798389 ],\n",
       "       [ 1.        , -0.95758819, -1.00343552],\n",
       "       [ 1.        , -0.90125947, -0.95554281],\n",
       "       [ 1.        , -0.84493076, -0.90673594],\n",
       "       [ 1.        , -0.78860204, -0.85715474],\n",
       "       [ 1.        , -0.73227332, -0.80671517],\n",
       "       [ 1.        , -0.67594461, -0.7552095 ],\n",
       "       [ 1.        , -0.61961589, -0.70232333],\n",
       "       [ 1.        , -0.50695845, -0.59177763],\n",
       "       [ 1.        , -0.45062974, -0.5342533 ],\n",
       "       [ 1.        , -0.3379723 , -0.41618446],\n",
       "       [ 1.        , -0.28164359, -0.35636626],\n",
       "       [ 1.        , -0.22531487, -0.29624554],\n",
       "       [ 1.        , -0.16898615, -0.23581217],\n",
       "       [ 1.        , -0.11265743, -0.17510577],\n",
       "       [ 1.        ,  0.        , -0.05289031],\n",
       "       [ 1.        ,  0.05632872,  0.0085279 ],\n",
       "       [ 1.        ,  0.16898615,  0.13184167],\n",
       "       [ 1.        ,  0.28164359,  0.25647987],\n",
       "       [ 1.        ,  0.3379723 ,  0.31942458],\n",
       "       [ 1.        ,  0.39430102,  0.38268369],\n",
       "       [ 1.        ,  0.45062974,  0.44610928],\n",
       "       [ 1.        ,  0.50695845,  0.50950418],\n",
       "       [ 1.        ,  0.56328717,  0.57270395],\n",
       "       [ 1.        ,  0.61961589,  0.63558683],\n",
       "       [ 1.        ,  0.67594461,  0.69810297],\n",
       "       [ 1.        ,  0.78860204,  0.82201612],\n",
       "       [ 1.        ,  0.84493076,  0.8834038 ],\n",
       "       [ 1.        ,  0.95758819,  1.00490487],\n",
       "       [ 1.        ,  1.01391691,  1.06449675],\n",
       "       [ 1.        ,  1.12657434,  1.17921229],\n",
       "       [ 1.        ,  1.18290306,  1.23384333],\n",
       "       [ 1.        ,  1.23923178,  1.28671849],\n",
       "       [ 1.        ,  1.2955605 ,  1.33812459],\n",
       "       [ 1.        ,  1.35188921,  1.38849578],\n",
       "       [ 1.        ,  1.46454665,  1.48718759],\n",
       "       [ 1.        ,  1.52087536,  1.53551399],\n",
       "       [ 1.        ,  1.57720408,  1.58317818]])"
      ]
     },
     "execution_count": 65,
     "metadata": {},
     "output_type": "execute_result"
    }
   ],
   "source": [
    "x_train"
   ]
  },
  {
   "cell_type": "code",
   "execution_count": 138,
   "id": "bfaa360b",
   "metadata": {},
   "outputs": [
    {
     "data": {
      "text/html": [
       "<div>\n",
       "<style scoped>\n",
       "    .dataframe tbody tr th:only-of-type {\n",
       "        vertical-align: middle;\n",
       "    }\n",
       "\n",
       "    .dataframe tbody tr th {\n",
       "        vertical-align: top;\n",
       "    }\n",
       "\n",
       "    .dataframe thead th {\n",
       "        text-align: right;\n",
       "    }\n",
       "</style>\n",
       "<table border=\"1\" class=\"dataframe\">\n",
       "  <thead>\n",
       "    <tr style=\"text-align: right;\">\n",
       "      <th></th>\n",
       "      <th>C02_Emission_Kt</th>\n",
       "    </tr>\n",
       "  </thead>\n",
       "  <tbody>\n",
       "    <tr>\n",
       "      <th>0</th>\n",
       "      <td>-1.006869</td>\n",
       "    </tr>\n",
       "    <tr>\n",
       "      <th>1</th>\n",
       "      <td>-0.991743</td>\n",
       "    </tr>\n",
       "    <tr>\n",
       "      <th>2</th>\n",
       "      <td>-0.971619</td>\n",
       "    </tr>\n",
       "    <tr>\n",
       "      <th>3</th>\n",
       "      <td>-0.955267</td>\n",
       "    </tr>\n",
       "    <tr>\n",
       "      <th>4</th>\n",
       "      <td>-0.960560</td>\n",
       "    </tr>\n",
       "  </tbody>\n",
       "</table>\n",
       "</div>"
      ],
      "text/plain": [
       "   C02_Emission_Kt\n",
       "0        -1.006869\n",
       "1        -0.991743\n",
       "2        -0.971619\n",
       "3        -0.955267\n",
       "4        -0.960560"
      ]
     },
     "execution_count": 138,
     "metadata": {},
     "output_type": "execute_result"
    }
   ],
   "source": [
    "theta=np.zeros((x_train.shape[1],1)) #we created the theta array\n",
    "y_train.head()"
   ]
  },
  {
   "cell_type": "markdown",
   "id": "bd1d8ee3",
   "metadata": {},
   "source": [
    "similarly lets saggregate the test dataframe."
   ]
  },
  {
   "cell_type": "code",
   "execution_count": 152,
   "id": "89d39f5a",
   "metadata": {},
   "outputs": [],
   "source": [
    "x_test = test.loc[:,['Year','Population_Total']]\n",
    "ones = np.ones([x_test.shape[0],1])\n",
    "x_test = np.concatenate((ones,x_test),axis=1)\n",
    "y_test = test.loc[:,['C02_Emission_Kt']]"
   ]
  },
  {
   "cell_type": "code",
   "execution_count": 153,
   "id": "60b7b93b",
   "metadata": {},
   "outputs": [
    {
     "data": {
      "text/plain": [
       "(17, 3)"
      ]
     },
     "execution_count": 153,
     "metadata": {},
     "output_type": "execute_result"
    }
   ],
   "source": [
    "x_test.shape"
   ]
  },
  {
   "cell_type": "code",
   "execution_count": 154,
   "id": "5d190a94",
   "metadata": {},
   "outputs": [
    {
     "data": {
      "text/html": [
       "<div>\n",
       "<style scoped>\n",
       "    .dataframe tbody tr th:only-of-type {\n",
       "        vertical-align: middle;\n",
       "    }\n",
       "\n",
       "    .dataframe tbody tr th {\n",
       "        vertical-align: top;\n",
       "    }\n",
       "\n",
       "    .dataframe thead th {\n",
       "        text-align: right;\n",
       "    }\n",
       "</style>\n",
       "<table border=\"1\" class=\"dataframe\">\n",
       "  <thead>\n",
       "    <tr style=\"text-align: right;\">\n",
       "      <th></th>\n",
       "      <th>C02_Emission_Kt</th>\n",
       "    </tr>\n",
       "  </thead>\n",
       "  <tbody>\n",
       "    <tr>\n",
       "      <th>46</th>\n",
       "      <td>0.677662</td>\n",
       "    </tr>\n",
       "    <tr>\n",
       "      <th>49</th>\n",
       "      <td>1.223344</td>\n",
       "    </tr>\n",
       "    <tr>\n",
       "      <th>55</th>\n",
       "      <td>2.119296</td>\n",
       "    </tr>\n",
       "    <tr>\n",
       "      <th>59</th>\n",
       "      <td>0.000000</td>\n",
       "    </tr>\n",
       "    <tr>\n",
       "      <th>60</th>\n",
       "      <td>0.000000</td>\n",
       "    </tr>\n",
       "  </tbody>\n",
       "</table>\n",
       "</div>"
      ],
      "text/plain": [
       "    C02_Emission_Kt\n",
       "46         0.677662\n",
       "49         1.223344\n",
       "55         2.119296\n",
       "59         0.000000\n",
       "60         0.000000"
      ]
     },
     "execution_count": 154,
     "metadata": {},
     "output_type": "execute_result"
    }
   ],
   "source": [
    "y_test.tail()"
   ]
  },
  {
   "cell_type": "markdown",
   "id": "f6a50559",
   "metadata": {},
   "source": [
    "so we are done with the train and test data splitting. and we could see data is splitted randomly."
   ]
  },
  {
   "cell_type": "code",
   "execution_count": 390,
   "id": "ac6f86d8",
   "metadata": {},
   "outputs": [],
   "source": [
    "#setting hyper parameters\n",
    "alpha = 0.0007\n",
    "iter=1000"
   ]
  },
  {
   "cell_type": "markdown",
   "id": "7d58927d",
   "metadata": {},
   "source": [
    "### Lets write the function for computing cost"
   ]
  },
  {
   "cell_type": "code",
   "execution_count": 391,
   "id": "a5643aa3",
   "metadata": {},
   "outputs": [],
   "source": [
    "# Compting cost function\n",
    "\n",
    "def computeCost(x_train,y_train,theta):\n",
    "    toSum = np.power((np.dot(x_train,theta)-y_train),2)\n",
    "    return np.sum(toSum)/(2*len(y_train))"
   ]
  },
  {
   "cell_type": "markdown",
   "id": "f30df5d0",
   "metadata": {},
   "source": [
    "### MOST important part"
   ]
  },
  {
   "cell_type": "markdown",
   "id": "aefe65f6",
   "metadata": {},
   "source": [
    "#### implementation of Gradient descent algo"
   ]
  },
  {
   "cell_type": "markdown",
   "id": "9dddc385",
   "metadata": {},
   "source": [
    "When u call gradient descent function it will return you the optimum theta array and cost listarray."
   ]
  },
  {
   "cell_type": "code",
   "execution_count": 392,
   "id": "f6784be0",
   "metadata": {},
   "outputs": [],
   "source": [
    "def gradientDescent(x_train,y_train,theta,iter,alpha):\n",
    "    cost=np.zeros(iter)\n",
    "    for i in range(iter):\n",
    "        y_pred=np.dot(x_train,theta)\n",
    "        d_theta = (1/len(y_train))*np.dot(x_train.T,y_pred-y_train)\n",
    "        theta = theta -alpha*d_theta\n",
    "        cost[i]=computeCost(x_train,y_train,theta)\n",
    "        # u could also check cost at every step by calling\n",
    "        #print(computeCost(x_train,y_train,theta))\n",
    "    return theta,cost"
   ]
  },
  {
   "cell_type": "markdown",
   "id": "9e3bfa24",
   "metadata": {},
   "source": [
    "#### calling gradient descent"
   ]
  },
  {
   "cell_type": "code",
   "execution_count": 393,
   "id": "3d7f8d83",
   "metadata": {},
   "outputs": [
    {
     "name": "stdout",
     "output_type": "stream",
     "text": [
      "[[0.03135282]\n",
      " [0.35931417]\n",
      " [0.36884252]]\n"
     ]
    }
   ],
   "source": [
    "final_theta,cost_list = gradientDescent(x_train,y_train,theta,iter,alpha)\n",
    "print(final_theta)"
   ]
  },
  {
   "cell_type": "markdown",
   "id": "4b9228e0",
   "metadata": {},
   "source": [
    "So, we got values optimum of theta in the form of array. we could use this to predict the co2 emmision on the basis of input parameters i.e population and year."
   ]
  },
  {
   "cell_type": "code",
   "execution_count": 394,
   "id": "97214a88",
   "metadata": {},
   "outputs": [
    {
     "data": {
      "text/plain": [
       "C02_Emission_Kt    0.108898\n",
       "dtype: float64"
      ]
     },
     "execution_count": 394,
     "metadata": {},
     "output_type": "execute_result"
    }
   ],
   "source": [
    "finalCost =computeCost(x_train,y_train,final_theta)\n",
    "finalCost"
   ]
  },
  {
   "cell_type": "markdown",
   "id": "f05b0012",
   "metadata": {},
   "source": [
    "### Lets see, how our cost plot looks like"
   ]
  },
  {
   "cell_type": "code",
   "execution_count": 395,
   "id": "aad4da06",
   "metadata": {},
   "outputs": [
    {
     "data": {
      "text/plain": [
       "Text(0, 0.5, 'Cost')"
      ]
     },
     "execution_count": 395,
     "metadata": {},
     "output_type": "execute_result"
    },
    {
     "data": {
      "image/png": "[encoded data removed]",
      "text/plain": [
       "<Figure size 432x288 with 1 Axes>"
      ]
     },
     "metadata": {
      "needs_background": "light"
     },
     "output_type": "display_data"
    }
   ],
   "source": [
    "fig,ax = plt.subplots()\n",
    "ax.plot(np.arange(iter),cost_list,'r')\n",
    "ax.set_xlabel('Iterations')\n",
    "ax.set_ylabel('Cost')"
   ]
  },
  {
   "cell_type": "markdown",
   "id": "953a1662",
   "metadata": {},
   "source": [
    "In the above figure, u could see that value of cost is decresing with increasing iterations and thats all we want.\n",
    "\n",
    "Choosing alpha and iteration is going to dtermine how your model is going to perform.\n",
    "\n",
    "alpha can neither be too low nor too high.\n",
    "you could see the difference by choosing different alpha values."
   ]
  },
  {
   "cell_type": "markdown",
   "id": "1cbc5ba8",
   "metadata": {},
   "source": [
    "### Okay, Most awaited section"
   ]
  },
  {
   "cell_type": "markdown",
   "id": "4dc0c64f",
   "metadata": {},
   "source": [
    "#### Calcutaion of mean error"
   ]
  },
  {
   "cell_type": "code",
   "execution_count": 396,
   "id": "99c6dcf9",
   "metadata": {},
   "outputs": [
    {
     "data": {
      "text/plain": [
       "array([[-0.96515525],\n",
       "       [-0.93168724],\n",
       "       [-0.86366109],\n",
       "       [-0.79337701],\n",
       "       [-0.75717723],\n",
       "       [-0.72029639],\n",
       "       [-0.41000275],\n",
       "       [-0.28574138],\n",
       "       [-0.03098292],\n",
       "       [ 0.09767969],\n",
       "       [ 0.1838491 ],\n",
       "       [ 0.57487778],\n",
       "       [ 0.70352881],\n",
       "       [ 0.83001056],\n",
       "       [ 1.0678002 ],\n",
       "       [ 1.2195891 ],\n",
       "       [ 1.25693244]])"
      ]
     },
     "execution_count": 396,
     "metadata": {},
     "output_type": "execute_result"
    }
   ],
   "source": [
    "# calculating the predicted y values \n",
    "y_pred = np.dot(x_test,final_theta)\n",
    "y_pred"
   ]
  },
  {
   "cell_type": "code",
   "execution_count": 397,
   "id": "9ac25c78",
   "metadata": {},
   "outputs": [
    {
     "name": "stdout",
     "output_type": "stream",
     "text": [
      "Test error is : C02_Emission_Kt    35.909394\n",
      "dtype: float64\n",
      "Test Accuracy is : C02_Emission_Kt    64.090606\n",
      "dtype: float64\n"
     ]
    }
   ],
   "source": [
    "error = (1/x_test.shape[0])*np.sum(np.abs(y_test-y_pred))\n",
    "\n",
    "print(\"Test error is :\", error*100)\n",
    "print(\"Test Accuracy is :\", (1- error)*100)"
   ]
  },
  {
   "cell_type": "code",
   "execution_count": 404,
   "id": "b75f4bbb",
   "metadata": {},
   "outputs": [
    {
     "data": {
      "text/plain": [
       "Text(0.5, 1.0, 'Actual vs predicted')"
      ]
     },
     "execution_count": 404,
     "metadata": {},
     "output_type": "execute_result"
    },
    {
     "data": {
      "image/png": "[encoded data removed]",
      "text/plain": [
       "<Figure size 144x144 with 1 Axes>"
      ]
     },
     "metadata": {
      "needs_background": "light"
     },
     "output_type": "display_data"
    }
   ],
   "source": [
    "plt.figure(figsize=(2,2))\n",
    "plt.scatter(y_test,y_pred)\n",
    "plt.xlabel('Actual')\n",
    "plt.ylabel('Predicted')\n",
    "plt.title('Actual vs predicted')"
   ]
  },
  {
   "cell_type": "markdown",
   "id": "3482c973",
   "metadata": {},
   "source": [
    "### Well 35% error is huge, lets see it using sklearn"
   ]
  },
  {
   "cell_type": "code",
   "execution_count": 398,
   "id": "9f89f67b",
   "metadata": {},
   "outputs": [
    {
     "data": {
      "text/html": [
       "<div>\n",
       "<style scoped>\n",
       "    .dataframe tbody tr th:only-of-type {\n",
       "        vertical-align: middle;\n",
       "    }\n",
       "\n",
       "    .dataframe tbody tr th {\n",
       "        vertical-align: top;\n",
       "    }\n",
       "\n",
       "    .dataframe thead th {\n",
       "        text-align: right;\n",
       "    }\n",
       "</style>\n",
       "<table border=\"1\" class=\"dataframe\">\n",
       "  <thead>\n",
       "    <tr style=\"text-align: right;\">\n",
       "      <th></th>\n",
       "      <th>Year</th>\n",
       "      <th>C02_Emission_Kt</th>\n",
       "      <th>Population_Total</th>\n",
       "    </tr>\n",
       "  </thead>\n",
       "  <tbody>\n",
       "    <tr>\n",
       "      <th>0</th>\n",
       "      <td>-1.689862</td>\n",
       "      <td>-1.006869</td>\n",
       "      <td>-1.495666</td>\n",
       "    </tr>\n",
       "    <tr>\n",
       "      <th>1</th>\n",
       "      <td>-1.633533</td>\n",
       "      <td>-0.991743</td>\n",
       "      <td>-1.464627</td>\n",
       "    </tr>\n",
       "    <tr>\n",
       "      <th>2</th>\n",
       "      <td>-1.577204</td>\n",
       "      <td>-0.971619</td>\n",
       "      <td>-1.432425</td>\n",
       "    </tr>\n",
       "    <tr>\n",
       "      <th>3</th>\n",
       "      <td>-1.520875</td>\n",
       "      <td>-0.955267</td>\n",
       "      <td>-1.399154</td>\n",
       "    </tr>\n",
       "    <tr>\n",
       "      <th>4</th>\n",
       "      <td>-1.464547</td>\n",
       "      <td>-0.960560</td>\n",
       "      <td>-1.364947</td>\n",
       "    </tr>\n",
       "  </tbody>\n",
       "</table>\n",
       "</div>"
      ],
      "text/plain": [
       "       Year  C02_Emission_Kt  Population_Total\n",
       "0 -1.689862        -1.006869         -1.495666\n",
       "1 -1.633533        -0.991743         -1.464627\n",
       "2 -1.577204        -0.971619         -1.432425\n",
       "3 -1.520875        -0.955267         -1.399154\n",
       "4 -1.464547        -0.960560         -1.364947"
      ]
     },
     "execution_count": 398,
     "metadata": {},
     "output_type": "execute_result"
    }
   ],
   "source": [
    "from sklearn.linear_model import LinearRegression\n",
    "from sklearn.model_selection import train_test_split\n",
    "from sklearn.metrics import mean_squared_error\n",
    "data.head()"
   ]
  },
  {
   "cell_type": "code",
   "execution_count": 399,
   "id": "a3c40ce3",
   "metadata": {},
   "outputs": [],
   "source": [
    "x = data.loc[:,['Year','Population_Total']]\n",
    "y = data.loc[:,['C02_Emission_Kt']]\n",
    "X_train, X_test, Y_train, Y_test = train_test_split(x, y, test_size=0.2, random_state=42)"
   ]
  },
  {
   "cell_type": "code",
   "execution_count": 400,
   "id": "fd3c7c4a",
   "metadata": {},
   "outputs": [],
   "source": [
    "model = LinearRegression()\n",
    "model.fit(X_train,Y_train)\n",
    "preds = model.predict(X_test)\n",
    "error = mean_squared_error(Y_test, preds)"
   ]
  },
  {
   "cell_type": "code",
   "execution_count": 401,
   "id": "5236f78a",
   "metadata": {},
   "outputs": [
    {
     "name": "stdout",
     "output_type": "stream",
     "text": [
      "error using the sklearn library: 25.448344204881796 %\n"
     ]
    }
   ],
   "source": [
    "print(\"error using the sklearn library:\",error*100,\"%\")"
   ]
  },
  {
   "cell_type": "markdown",
   "id": "9fd37b0a",
   "metadata": {},
   "source": [
    "#### So, we got 25% error while using sklearn too, that means data itself is not sufficient enough to land up to some conclusion.\n",
    "Indication - Lack of data"
   ]
  },
  {
   "cell_type": "markdown",
   "id": "a44e443c",
   "metadata": {},
   "source": [
    "### Learnings -"
   ]
  },
  {
   "cell_type": "markdown",
   "id": "0ce02dc3",
   "metadata": {},
   "source": [
    "1. Fundamentals behind Multilinear regression.\n",
    "2. How to manage and play with data and dataframe.\n",
    "3. Implemetation of multinear regression with and without Sklearn."
   ]
  },
  {
   "cell_type": "markdown",
   "id": "a3d0f009",
   "metadata": {},
   "source": [
    "# Thank you"
   ]
  },
  {
   "cell_type": "code",
   "execution_count": null,
   "id": "d714aff7",
   "metadata": {},
   "outputs": [],
   "source": []
  }
 ],
 "metadata": {
  "kernelspec": {
   "display_name": "Python 3 (ipykernel)",
   "language": "python",
   "name": "python3"
  },
  "language_info": {
   "codemirror_mode": {
    "name": "ipython",
    "version": 3
   },
   "file_extension": ".py",
   "mimetype": "text/x-python",
   "name": "python",
   "nbconvert_exporter": "python",
   "pygments_lexer": "ipython3",
   "version": "3.8.8"
  }
 },
 "nbformat": 4,
 "nbformat_minor": 5
}
