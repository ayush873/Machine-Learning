{
 "cells": [
  {
   "cell_type": "code",
   "execution_count": 36,
   "metadata": {},
   "outputs": [],
   "source": [
    "import numpy as np\n",
    "import time \n",
    "import sys\n",
    "\n",
    "\n",
    "import matplotlib.pyplot as plt\n",
    "##more basics are written in the copy"
   ]
  },
  {
   "cell_type": "code",
   "execution_count": 37,
   "metadata": {},
   "outputs": [],
   "source": [
    "a = np.array([[1,2,3],[1,5,5]])"
   ]
  },
  {
   "cell_type": "code",
   "execution_count": 38,
   "metadata": {},
   "outputs": [
    {
     "data": {
      "text/plain": [
       "array([[1, 2, 3],\n",
       "       [1, 5, 5]])"
      ]
     },
     "execution_count": 38,
     "metadata": {},
     "output_type": "execute_result"
    }
   ],
   "source": [
    "a"
   ]
  },
  {
   "cell_type": "code",
   "execution_count": 39,
   "metadata": {},
   "outputs": [
    {
     "data": {
      "text/plain": [
       "array([[1, 2, 3, 2],\n",
       "       [1, 5, 5, 3]])"
      ]
     },
     "execution_count": 39,
     "metadata": {},
     "output_type": "execute_result"
    }
   ],
   "source": [
    "# Use of coloumn_Stack #\n",
    "b=np.array([2,3])\n",
    "c=np.column_stack((a, b))##no of elements in b must beequal to no of rows\n",
    "c"
   ]
  },
  {
   "cell_type": "code",
   "execution_count": 40,
   "metadata": {},
   "outputs": [
    {
     "data": {
      "text/plain": [
       "array([[1, 2, 3],\n",
       "       [1, 5, 5],\n",
       "       [2, 3, 9],\n",
       "       [1, 2, 3]])"
      ]
     },
     "execution_count": 40,
     "metadata": {},
     "output_type": "execute_result"
    }
   ],
   "source": [
    "f=np.array([[2,3,9],[1,2,3]])\n",
    "d=np.hstack((a, f))##both array size must be equal\n",
    "e=np.vstack((a, f))\n",
    "d\n",
    "e"
   ]
  },
  {
   "cell_type": "code",
   "execution_count": 42,
   "metadata": {},
   "outputs": [
    {
     "name": "stdout",
     "output_type": "stream",
     "text": [
      "[[ 0.  1.  2.]\n",
      " [10. 11. 12.]\n",
      " [20. 21. 22.]\n",
      " [30. 31. 32.]]\n"
     ]
    }
   ],
   "source": [
    "import numpy as np \n",
    "  \n",
    "a = np.array([0.0, 10.0, 20.0, 30.0]) \n",
    "b = np.array([0.0, 1.0, 2.0]) \n",
    "  \n",
    "print(a[:, np.newaxis] + b)##sums each element  of a to b and forms a diffrent array"
   ]
  },
  {
   "cell_type": "code",
   "execution_count": 76,
   "metadata": {},
   "outputs": [
    {
     "name": "stdout",
     "output_type": "stream",
     "text": [
      "15\n",
      "\n",
      "Determinant of A: -9.51619735392994e-16\n",
      "\n",
      "Inverse of A:\n",
      " [[ 3.15251974e+15 -6.30503948e+15  3.15251974e+15]\n",
      " [-6.30503948e+15  1.26100790e+16 -6.30503948e+15]\n",
      " [ 3.15251974e+15 -6.30503948e+15  3.15251974e+15]]\n"
     ]
    }
   ],
   "source": [
    "# Calculation of trace , Determinant and the Inverse of a matrix #\n",
    "\n",
    "A=np.array([[1,2,3],[4,5,6],[7,8,9]])\n",
    "print(np.trace(A))\n",
    "print(\"\\nDeterminant of A:\", np.linalg.det(A))\n",
    "print(\"\\nInverse of A:\\n\", np.linalg.inv(A)) "
   ]
  },
  {
   "cell_type": "code",
   "execution_count": 44,
   "metadata": {},
   "outputs": [
    {
     "name": "stdout",
     "output_type": "stream",
     "text": [
      "Solution of linear equations: [-0.33333333  0.66666667]\n"
     ]
    }
   ],
   "source": [
    "##Linear equation can be solved using linalg.solve method\n",
    "\n",
    "s=np.array([[1,2],[4,5]])\n",
    "d=np.array([1,2])\n",
    "print(\"Solution of linear equations:\", np.linalg.solve(s,d))"
   ]
  },
  {
   "cell_type": "code",
   "execution_count": 46,
   "metadata": {},
   "outputs": [
    {
     "data": {
      "text/plain": [
       "array([[1, 5],\n",
       "       [2, 6]])"
      ]
     },
     "execution_count": 46,
     "metadata": {},
     "output_type": "execute_result"
    }
   ],
   "source": [
    "##Transpose of a matrix\n",
    "a=np.array([[1,2],[5,6]])\n",
    "v=a.T\n",
    "v"
   ]
  },
  {
   "cell_type": "code",
   "execution_count": 49,
   "metadata": {},
   "outputs": [],
   "source": [
    "# Plotting functions\n",
    "\n",
    "def Plotvec1(u, z, v):\n",
    "    \n",
    "    ax = plt.axes()\n",
    "    ax.arrow(0, 0, *u, head_width=0.05, color='r', head_length=0.1)\n",
    "    plt.text(*(u + 0.1), 'u')\n",
    "    \n",
    "    ax.arrow(0, 0, *v, head_width=0.05, color='b', head_length=0.1)\n",
    "    plt.text(*(v + 0.1), 'v')\n",
    "    ax.arrow(0, 0, *z, head_width=0.05, head_length=0.1)\n",
    "    plt.text(*(z + 0.1), 'z')\n",
    "    plt.ylim(-2, 2)\n",
    "    plt.xlim(-2, 2)\n",
    "\n",
    "def Plotvec2(a,b):\n",
    "    ax = plt.axes()\n",
    "    ax.arrow(0, 0, *a, head_width=0.05, color ='r', head_length=0.1)\n",
    "    plt.text(*(a + 0.1), 'a')\n",
    "    ax.arrow(0, 0, *b, head_width=0.05, color ='b', head_length=0.1)\n",
    "    plt.text(*(b + 0.1), 'b')\n",
    "    plt.ylim(-2, 2)\n",
    "    plt.xlim(-2, 2)"
   ]
  },
  {
   "cell_type": "code",
   "execution_count": 50,
   "metadata": {},
   "outputs": [],
   "source": [
    "# Create a python list\n",
    "\n",
    "a = [\"0\", 1, \"two\", \"3\", 4]\n"
   ]
  },
  {
   "cell_type": "code",
   "execution_count": 51,
   "metadata": {},
   "outputs": [
    {
     "name": "stdout",
     "output_type": "stream",
     "text": [
      "a[0]: 0\n",
      "a[1]: 1\n",
      "a[2]: two\n",
      "a[3]: 3\n",
      "a[4]: 4\n"
     ]
    }
   ],
   "source": [
    "# Print each element\n",
    "\n",
    "print(\"a[0]:\", a[0])\n",
    "print(\"a[1]:\", a[1])\n",
    "print(\"a[2]:\", a[2])\n",
    "print(\"a[3]:\", a[3])\n",
    "print(\"a[4]:\", a[4])"
   ]
  },
  {
   "cell_type": "code",
   "execution_count": 52,
   "metadata": {},
   "outputs": [
    {
     "data": {
      "text/plain": [
       "array([0, 1, 2, 3, 4])"
      ]
     },
     "execution_count": 52,
     "metadata": {},
     "output_type": "execute_result"
    }
   ],
   "source": [
    "# Create a numpy array\n",
    "\n",
    "a = np.array([0, 1, 2, 3, 4])\n",
    "a"
   ]
  },
  {
   "cell_type": "code",
   "execution_count": 53,
   "metadata": {},
   "outputs": [
    {
     "name": "stdout",
     "output_type": "stream",
     "text": [
      "a[0]: 0\n",
      "a[1]: 1\n",
      "a[2]: 2\n",
      "a[3]: 3\n",
      "a[4]: 4\n"
     ]
    }
   ],
   "source": [
    "# Print each element\n",
    "\n",
    "print(\"a[0]:\", a[0])\n",
    "print(\"a[1]:\", a[1])\n",
    "print(\"a[2]:\", a[2])\n",
    "print(\"a[3]:\", a[3])\n",
    "print(\"a[4]:\", a[4])"
   ]
  },
  {
   "cell_type": "code",
   "execution_count": 54,
   "metadata": {},
   "outputs": [
    {
     "data": {
      "text/plain": [
       "numpy.ndarray"
      ]
     },
     "execution_count": 54,
     "metadata": {},
     "output_type": "execute_result"
    }
   ],
   "source": [
    "# Check the type of the array\n",
    "\n",
    "type(a)"
   ]
  },
  {
   "cell_type": "code",
   "execution_count": 55,
   "metadata": {},
   "outputs": [
    {
     "data": {
      "text/plain": [
       "dtype('int32')"
      ]
     },
     "execution_count": 55,
     "metadata": {},
     "output_type": "execute_result"
    }
   ],
   "source": [
    "# Check the type of the values stored in numpy array\n",
    "\n",
    "a.dtype"
   ]
  },
  {
   "cell_type": "code",
   "execution_count": 56,
   "metadata": {},
   "outputs": [
    {
     "data": {
      "text/plain": [
       "array([  0,   1,   2, 300, 400])"
      ]
     },
     "execution_count": 56,
     "metadata": {},
     "output_type": "execute_result"
    }
   ],
   "source": [
    "# Set the fourth element and fifth element to 300 and 400\n",
    "\n",
    "a[3:5] = 300, 400\n",
    "a"
   ]
  },
  {
   "cell_type": "code",
   "execution_count": 57,
   "metadata": {},
   "outputs": [
    {
     "data": {
      "text/plain": [
       "5"
      ]
     },
     "execution_count": 57,
     "metadata": {},
     "output_type": "execute_result"
    }
   ],
   "source": [
    "# Get the size of numpy array\n",
    "\n",
    "a.size"
   ]
  },
  {
   "cell_type": "code",
   "execution_count": 58,
   "metadata": {},
   "outputs": [
    {
     "data": {
      "text/plain": [
       "1"
      ]
     },
     "execution_count": 58,
     "metadata": {},
     "output_type": "execute_result"
    }
   ],
   "source": [
    "# Get the number of dimensions of numpy array\n",
    "\n",
    "a.ndim"
   ]
  },
  {
   "cell_type": "code",
   "execution_count": 59,
   "metadata": {},
   "outputs": [
    {
     "data": {
      "text/plain": [
       "(5,)"
      ]
     },
     "execution_count": 59,
     "metadata": {},
     "output_type": "execute_result"
    }
   ],
   "source": [
    "# Get the shape/size of numpy array\n",
    "\n",
    "a.shape"
   ]
  },
  {
   "cell_type": "code",
   "execution_count": 60,
   "metadata": {},
   "outputs": [
    {
     "data": {
      "text/plain": [
       "140.6"
      ]
     },
     "execution_count": 60,
     "metadata": {},
     "output_type": "execute_result"
    }
   ],
   "source": [
    "# Get the mean of numpy array\n",
    "\n",
    "mean = a.mean()\n",
    "mean"
   ]
  },
  {
   "cell_type": "code",
   "execution_count": 61,
   "metadata": {},
   "outputs": [
    {
     "data": {
      "text/plain": [
       "173.87535765599446"
      ]
     },
     "execution_count": 61,
     "metadata": {},
     "output_type": "execute_result"
    }
   ],
   "source": [
    "# Get the standard deviation of numpy array\n",
    "\n",
    "standard_deviation=a.std()\n",
    "standard_deviation"
   ]
  },
  {
   "cell_type": "code",
   "execution_count": 62,
   "metadata": {},
   "outputs": [
    {
     "data": {
      "text/plain": [
       "400"
      ]
     },
     "execution_count": 62,
     "metadata": {},
     "output_type": "execute_result"
    }
   ],
   "source": [
    "# Get the biggest value in the numpy array\n",
    "\n",
    "max_b = a.max()\n",
    "max_b"
   ]
  },
  {
   "cell_type": "code",
   "execution_count": 63,
   "metadata": {},
   "outputs": [
    {
     "data": {
      "text/plain": [
       "array([1, 1])"
      ]
     },
     "execution_count": 63,
     "metadata": {},
     "output_type": "execute_result"
    }
   ],
   "source": [
    "###  Array Addition  ##\n",
    "u = np.array([1, 0])\n",
    "v = np.array([0, 1])\n",
    "z=u+v\n",
    "z"
   ]
  },
  {
   "cell_type": "code",
   "execution_count": 64,
   "metadata": {},
   "outputs": [
    {
     "data": {
      "image/png": "[encoded data removed]",
      "text/plain": [
       "<matplotlib.figure.Figure at 0x1f890f19e10>"
      ]
     },
     "metadata": {},
     "output_type": "display_data"
    }
   ],
   "source": [
    "# Plot numpy arrays\n",
    "\n",
    "Plotvec1(u, z, v)"
   ]
  },
  {
   "cell_type": "code",
   "execution_count": 65,
   "metadata": {},
   "outputs": [],
   "source": [
    "# Multiplication  #"
   ]
  },
  {
   "cell_type": "code",
   "execution_count": 66,
   "metadata": {},
   "outputs": [
    {
     "data": {
      "text/plain": [
       "array([1, 2])"
      ]
     },
     "execution_count": 66,
     "metadata": {},
     "output_type": "execute_result"
    }
   ],
   "source": [
    "# Create a numpy array\n",
    "\n",
    "y = np.array([1, 2])\n",
    "y"
   ]
  },
  {
   "cell_type": "code",
   "execution_count": 67,
   "metadata": {},
   "outputs": [
    {
     "data": {
      "text/plain": [
       "array([2, 4])"
      ]
     },
     "execution_count": 67,
     "metadata": {},
     "output_type": "execute_result"
    }
   ],
   "source": [
    "# Numpy Array Multiplication\n",
    "\n",
    "z = 2 * y\n",
    "z"
   ]
  },
  {
   "cell_type": "code",
   "execution_count": 68,
   "metadata": {},
   "outputs": [
    {
     "data": {
      "text/plain": [
       "array([1, 2])"
      ]
     },
     "execution_count": 68,
     "metadata": {},
     "output_type": "execute_result"
    }
   ],
   "source": [
    "# Create a numpy array\n",
    "\n",
    "u = np.array([1, 2])\n",
    "u"
   ]
  },
  {
   "cell_type": "code",
   "execution_count": 69,
   "metadata": {},
   "outputs": [
    {
     "data": {
      "text/plain": [
       "array([2, 8])"
      ]
     },
     "execution_count": 69,
     "metadata": {},
     "output_type": "execute_result"
    }
   ],
   "source": [
    "# Calculate the production of two numpy arrays\n",
    "\n",
    "z = z * u\n",
    "z"
   ]
  },
  {
   "cell_type": "code",
   "execution_count": 70,
   "metadata": {},
   "outputs": [
    {
     "data": {
      "text/plain": [
       "18"
      ]
     },
     "execution_count": 70,
     "metadata": {},
     "output_type": "execute_result"
    }
   ],
   "source": [
    "# Dot Product #\n",
    "\n",
    "z=z.dot(u)\n",
    "z"
   ]
  },
  {
   "cell_type": "code",
   "execution_count": 71,
   "metadata": {},
   "outputs": [
    {
     "data": {
      "text/plain": [
       "array([2, 3])"
      ]
     },
     "execution_count": 71,
     "metadata": {},
     "output_type": "execute_result"
    }
   ],
   "source": [
    "# Add the constant to array\n",
    "\n",
    "u=u + 1\n",
    "u"
   ]
  },
  {
   "cell_type": "code",
   "execution_count": 74,
   "metadata": {},
   "outputs": [],
   "source": [
    "# Use of Linspace #\n",
    "# Makeup a numpy array within [0, 2π] and 100 elements \n",
    "\n",
    "x = np.linspace(0, 2*np.pi, num=100)\n",
    "y=np.sin(x)\n"
   ]
  },
  {
   "cell_type": "code",
   "execution_count": 75,
   "metadata": {},
   "outputs": [
    {
     "data": {
      "text/plain": [
       "[<matplotlib.lines.Line2D at 0x1f890e4d7b8>]"
      ]
     },
     "execution_count": 75,
     "metadata": {},
     "output_type": "execute_result"
    },
    {
     "data": {
      "image/png": "[encoded data removed]",
      "text/plain": [
       "<matplotlib.figure.Figure at 0x1f890ed2a20>"
      ]
     },
     "metadata": {},
     "output_type": "display_data"
    }
   ],
   "source": [
    "# Plot the result\n",
    "\n",
    "plt.plot(x, y)"
   ]
  },
  {
   "cell_type": "code",
   "execution_count": 79,
   "metadata": {},
   "outputs": [
    {
     "data": {
      "text/plain": [
       "[[11, 12, 13], [21, 22, 23], [31, 32, 33]]"
      ]
     },
     "execution_count": 79,
     "metadata": {},
     "output_type": "execute_result"
    }
   ],
   "source": [
    "# Create a list\n",
    "\n",
    "a = [[11, 12, 13], [21, 22, 23], [31, 32, 33]]\n",
    "a"
   ]
  },
  {
   "cell_type": "code",
   "execution_count": 80,
   "metadata": {},
   "outputs": [
    {
     "data": {
      "text/plain": [
       "array([[11, 12, 13],\n",
       "       [21, 22, 23],\n",
       "       [31, 32, 33]])"
      ]
     },
     "execution_count": 80,
     "metadata": {},
     "output_type": "execute_result"
    }
   ],
   "source": [
    "# Convert list to Numpy Array\n",
    "# Every element is the same type\n",
    "\n",
    "A = np.array(a)\n",
    "A"
   ]
  },
  {
   "cell_type": "code",
   "execution_count": 81,
   "metadata": {},
   "outputs": [
    {
     "data": {
      "text/plain": [
       "2"
      ]
     },
     "execution_count": 81,
     "metadata": {},
     "output_type": "execute_result"
    }
   ],
   "source": [
    "# Show the numpy array dimensions\n",
    "\n",
    "A.ndim"
   ]
  },
  {
   "cell_type": "code",
   "execution_count": 82,
   "metadata": {},
   "outputs": [
    {
     "data": {
      "text/plain": [
       "23"
      ]
     },
     "execution_count": 82,
     "metadata": {},
     "output_type": "execute_result"
    }
   ],
   "source": [
    "# Access the element on the second row and third column\n",
    "\n",
    "A[1, 2]"
   ]
  },
  {
   "cell_type": "code",
   "execution_count": 83,
   "metadata": {},
   "outputs": [
    {
     "data": {
      "text/plain": [
       "23"
      ]
     },
     "execution_count": 83,
     "metadata": {},
     "output_type": "execute_result"
    }
   ],
   "source": [
    "# Access the element on the second row and third column\n",
    "\n",
    "A[1][2]"
   ]
  },
  {
   "cell_type": "code",
   "execution_count": 87,
   "metadata": {},
   "outputs": [
    {
     "data": {
      "text/plain": [
       "array([[12, 13],\n",
       "       [22, 23]])"
      ]
     },
     "execution_count": 87,
     "metadata": {},
     "output_type": "execute_result"
    }
   ],
   "source": [
    "# Access the element on the second row and third column\n",
    "\n",
    "A[0:2, 1:]"
   ]
  },
  {
   "cell_type": "code",
   "execution_count": 88,
   "metadata": {},
   "outputs": [],
   "source": [
    "# Sum , MUltiplication and the rest of the properties are same as that of 1-D array. #"
   ]
  },
  {
   "cell_type": "code",
   "execution_count": 89,
   "metadata": {},
   "outputs": [
    {
     "name": "stdout",
     "output_type": "stream",
     "text": [
      "[0 1 2 3 4 5 6 7 8]\n",
      "[[0. 1. 2. 3. 4. 5. 6. 7. 8.]\n",
      " [1. 1. 1. 1. 1. 1. 1. 1. 1.]]\n",
      "[ 0.71666667 19.18888889]\n",
      "[[0. 1.]\n",
      " [1. 1.]\n",
      " [2. 1.]\n",
      " [3. 1.]\n",
      " [4. 1.]\n",
      " [5. 1.]\n",
      " [6. 1.]\n",
      " [7. 1.]\n",
      " [8. 1.]]\n"
     ]
    },
    {
     "data": {
      "image/png": "[encoded data removed]",
      "text/plain": [
       "<matplotlib.figure.Figure at 0x1f890ec69b0>"
      ]
     },
     "metadata": {},
     "output_type": "display_data"
    }
   ],
   "source": [
    "# Plotting a Sequence #\n",
    "\n",
    "import matplotlib.pyplot as plt\n",
    "x=np.arange(0,9)\n",
    "print(x)\n",
    "A = np.array([x, np.ones(9)])##np.ones(9) print 9 1's after printed x\n",
    "print(A)\n",
    "# linearly generated sequence \n",
    "y = [19, 20, 20.5, 21.5, 22, 23, 23, 25.5, 24] \n",
    "w = np.linalg.lstsq(A.T, y,rcond=-1)[0] ##samajh mein nai aaya\n",
    "print(w)\n",
    "print(A.T)##(A.T) prints all coloumn wise value in a array ,, so no of no of array = no of colmn and converse\n",
    "# plotting the line \n",
    "line = w[0]*x + w[1] # regression line \n",
    "plt.plot(x, line, 'r-') \n",
    "plt.plot(x, y, 'o') \n",
    "plt.show()"
   ]
  },
  {
   "cell_type": "code",
   "execution_count": null,
   "metadata": {},
   "outputs": [],
   "source": []
  }
 ],
 "metadata": {
  "kernelspec": {
   "display_name": "Python 3",
   "language": "python",
   "name": "python3"
  },
  "language_info": {
   "codemirror_mode": {
    "name": "ipython",
    "version": 3
   },
   "file_extension": ".py",
   "mimetype": "text/x-python",
   "name": "python",
   "nbconvert_exporter": "python",
   "pygments_lexer": "ipython3",
   "version": "3.6.4"
  }
 },
 "nbformat": 4,
 "nbformat_minor": 2
}
